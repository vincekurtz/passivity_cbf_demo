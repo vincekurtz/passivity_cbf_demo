{
  "nbformat": 4,
  "nbformat_minor": 0,
  "metadata": {
    "colab": {
      "name": "Constrained Passivity-Based Control",
      "provenance": [],
      "collapsed_sections": [],
      "toc_visible": true
    },
    "kernelspec": {
      "display_name": "Python 3",
      "name": "python3"
    }
  },
  "cells": [
    {
      "cell_type": "markdown",
      "metadata": {
        "id": "5fCEDCU_qrC0"
      },
      "source": [
        "## Setup\n",
        "\n",
        "Run this cell first to provision a cloud machine and set up Drake. \n",
        "\n",
        "This may take a minute or two the first time, but once a machine is set up it should be good for about 12 hours. "
      ]
    },
    {
      "cell_type": "code",
      "metadata": {
        "id": "mxmkdKfSVjCK",
        "outputId": "d7ca0b03-aff0-406e-fde0-1fc96f664651",
        "colab": {
          "base_uri": "https://localhost:8080/"
        }
      },
      "source": [
        "import importlib\n",
        "import sys\n",
        "import os\n",
        "from urllib.request import urlretrieve\n",
        "import subprocess\n",
        "import shutil\n",
        "\n",
        "drake_url = \"https://drake-packages.csail.mit.edu/tmp/drake-0.27.0-pip-bionic.tar.gz\"\n",
        "assert 'google.colab' in sys.modules, \"This notebook is meant to be run in google colab!\"\n",
        "\n",
        "if importlib.util.find_spec('pydrake') is None:\n",
        "    # We're in colab and don't have pydrake, so install it on the cloud machine.\n",
        "    if os.path.isdir('/opt/drake'):\n",
        "        shutil.rmtree('/opt/drake')\n",
        "    print(\"Installing Drake\")\n",
        "    urlretrieve(drake_url, 'drake.tar.gz')\n",
        "    subprocess.run(['mkdir', '/opt/drake'])\n",
        "    subprocess.run(['tar', '-xzf', 'drake.tar.gz', '-C', '/opt/drake'], check=True)\n",
        "    \n",
        "    print(\"Installing other dependencies\")\n",
        "    subprocess.run([\"pip3\", \"install\", \"meshcat\"])\n",
        "    subprocess.run(['apt-get', 'update', '-o', 'APT::Acquire::Retries=4', '-qq'], check=True)\n",
        "    with open(\"/opt/drake/share/drake/setup/packages-bionic.txt\", \"r\") as f:\n",
        "        packages = f.read().splitlines()\n",
        "    subprocess.run(['apt-get', 'install', '-o',\n",
        "                    'APT::Acquire::Retries=4', '-o', 'Dpkg::Use-Pty=0',\n",
        "                    '-qy', '--no-install-recommends'] + packages,\n",
        "                    check=True)\n",
        "    \n",
        "    v = sys.version_info\n",
        "    path = f\"/opt/drake/lib/python{v.major}.{v.minor}/site-packages\"\n",
        "    if importlib.util.find_spec('pydrake') is None:\n",
        "        sys.path.append(path)\n",
        "\n",
        "# Clone our github repo\n",
        "target_path = '/opt/passivity_cbf_demo'\n",
        "if not os.path.isdir(target_path):\n",
        "    print(\"Cloning github repo\")\n",
        "    subprocess.run(['git','clone','https://github.com/vincekurtz/passivity_cbf_demo.git',target_path])\n",
        "sys.path.append(target_path)\n",
        "\n",
        "print(\"Done!\")\n"
      ],
      "execution_count": 1,
      "outputs": [
        {
          "output_type": "stream",
          "text": [
            "Installing Drake\n",
            "Installing other dependencies\n",
            "Cloning github repo\n",
            "Done!\n"
          ],
          "name": "stdout"
        }
      ]
    },
    {
      "cell_type": "code",
      "metadata": {
        "id": "zvtYFSesh9EO",
        "outputId": "8913d962-e4a8-4e11-ac73-828730a778df",
        "colab": {
          "base_uri": "https://localhost:8080/"
        }
      },
      "source": [
        "sys.path"
      ],
      "execution_count": 8,
      "outputs": [
        {
          "output_type": "execute_result",
          "data": {
            "text/plain": [
              "['',\n",
              " '/content',\n",
              " '/env/python',\n",
              " '/usr/lib/python37.zip',\n",
              " '/usr/lib/python3.7',\n",
              " '/usr/lib/python3.7/lib-dynload',\n",
              " '/usr/local/lib/python3.7/dist-packages',\n",
              " '/usr/lib/python3/dist-packages',\n",
              " '/usr/local/lib/python3.7/dist-packages/IPython/extensions',\n",
              " '/root/.ipython',\n",
              " '/opt/drake/lib/python3.7/site-packages',\n",
              " '/opt/passivity_cbf_demo',\n",
              " '/opt/passivity_cbf_demo']"
            ]
          },
          "metadata": {
            "tags": []
          },
          "execution_count": 8
        }
      ]
    },
    {
      "cell_type": "markdown",
      "metadata": {
        "id": "XcqATDUzYw7K"
      },
      "source": [
        "## About This Notebook\n",
        "\n",
        "While you're waiting, here's what this is all about..."
      ]
    },
    {
      "cell_type": "markdown",
      "metadata": {
        "id": "-g_GUYWdj0eW"
      },
      "source": [
        "Now we can start by setting some initial parameters"
      ]
    },
    {
      "cell_type": "code",
      "metadata": {
        "id": "Beg1rlROep0u"
      },
      "source": [
        "import numpy as np\n",
        "import matplotlib.pyplot as plt \n",
        "import os\n",
        "from pydrake.all import *\n",
        "from reduced_order_model import ReducedOrderModelPlant\n",
        "from controller import Gen3Controller\n",
        "from planners import GuiPlanner\n",
        "\n",
        "sim_time = np.inf\n",
        "dt = 3e-3\n",
        "target_realtime_rate = 1.0 \n",
        "\n",
        "# Initial joint angles\n",
        "q0 = np.array([0.0,0,np.pi/2,-np.pi/2,0.0,-np.pi/2,0])\n",
        "\n",
        "# initial end-effector pose\n",
        "x0 = np.array([np.pi-0.5,  \n",
        "               0,\n",
        "               np.pi/2,\n",
        "               0.2,\n",
        "               0.3,\n",
        "               0.5])\n"
      ],
      "execution_count": 15,
      "outputs": []
    },
    {
      "cell_type": "code",
      "metadata": {
        "id": "BGfBhqN_jk6p",
        "outputId": "5ea2be8e-dfb8-409f-e4e6-aa12cdebcce6",
        "colab": {
          "base_uri": "https://localhost:8080/"
        }
      },
      "source": [
        "# Find the (local) description file relative to drake\n",
        "robot_description_path = target_path + \"/models/gen3_7dof/urdf/GEN3_URDF_V12.urdf\"\n",
        "drake_path = getDrakePath()\n",
        "robot_description_file = \"drake/\" + os.path.relpath(robot_description_path, start=drake_path)\n",
        "\n",
        "# Set up the diagram and MultibodyPlant\n",
        "builder = DiagramBuilder()\n",
        "scene_graph = builder.AddSystem(SceneGraph())\n",
        "plant = builder.AddSystem(MultibodyPlant(time_step=dt))\n",
        "plant.RegisterAsSourceForSceneGraph(scene_graph)\n",
        "\n",
        "# Create a \"controllable\" plant, which has access only to the robot arm and gripper,\n",
        "# and not any data about other objects in the scene\n",
        "c_plant = MultibodyPlant(time_step=dt)\n",
        "\n",
        "# Load the robot arm model from a urdf file\n",
        "robot_urdf = FindResourceOrThrow(robot_description_file)\n",
        "gen3 = Parser(plant=plant).AddModelFromFile(robot_urdf,\"gen3\")\n",
        "c_gen3 = Parser(plant=c_plant).AddModelFromFile(robot_urdf,\"gen3\")\n",
        "\n",
        "# Load the gripper model from a urdf file\n",
        "gripper_file = \"drake/\" + os.path.relpath(target_path + \"/models/hande_gripper/urdf/robotiq_hande.urdf\", start=drake_path)\n",
        "gripper_urdf = FindResourceOrThrow(gripper_file)\n",
        "gripper = Parser(plant=plant).AddModelFromFile(gripper_urdf,\"gripper\")\n",
        "c_gripper = Parser(plant=c_plant).AddModelFromFile(gripper_urdf,\"gripper\")\n",
        "\n",
        "print(c_gripper)"
      ],
      "execution_count": 20,
      "outputs": [
        {
          "output_type": "stream",
          "text": [
            "ModelInstanceIndex(3)\n"
          ],
          "name": "stdout"
        }
      ]
    },
    {
      "cell_type": "code",
      "metadata": {
        "id": "vYtZEdtXkCkJ"
      },
      "source": [
        ""
      ],
      "execution_count": null,
      "outputs": []
    }
  ]
}