{
  "nbformat": 4,
  "nbformat_minor": 0,
  "metadata": {
    "colab": {
      "name": "Constrained Passivity-Based Control",
      "provenance": [],
      "collapsed_sections": [],
      "toc_visible": true
    },
    "kernelspec": {
      "display_name": "Python 3",
      "name": "python3"
    },
    "widgets": {
      "application/vnd.jupyter.widget-state+json": {
        "121d2d59f9e44c3abd0d222eef4ee209": {
          "model_module": "@jupyter-widgets/controls",
          "model_name": "RadioButtonsModel",
          "state": {
            "_options_labels": [
              "Unconstrained",
              "Standard",
              "Passivity Guaranteed"
            ],
            "_view_name": "RadioButtonsView",
            "style": "IPY_MODEL_eb81f71a9f794800b4b798829eaa86b8",
            "_dom_classes": [],
            "description": "",
            "_model_name": "RadioButtonsModel",
            "index": 2,
            "_view_module": "@jupyter-widgets/controls",
            "_model_module_version": "1.5.0",
            "_view_count": null,
            "disabled": false,
            "_view_module_version": "1.5.0",
            "description_tooltip": null,
            "_model_module": "@jupyter-widgets/controls",
            "layout": "IPY_MODEL_cb27fed83863478ca116189ddd0c79b4"
          }
        },
        "eb81f71a9f794800b4b798829eaa86b8": {
          "model_module": "@jupyter-widgets/controls",
          "model_name": "DescriptionStyleModel",
          "state": {
            "_view_name": "StyleView",
            "_model_name": "DescriptionStyleModel",
            "description_width": "",
            "_view_module": "@jupyter-widgets/base",
            "_model_module_version": "1.5.0",
            "_view_count": null,
            "_view_module_version": "1.2.0",
            "_model_module": "@jupyter-widgets/controls"
          }
        },
        "cb27fed83863478ca116189ddd0c79b4": {
          "model_module": "@jupyter-widgets/base",
          "model_name": "LayoutModel",
          "state": {
            "_view_name": "LayoutView",
            "grid_template_rows": null,
            "right": null,
            "justify_content": null,
            "_view_module": "@jupyter-widgets/base",
            "overflow": null,
            "_model_module_version": "1.2.0",
            "_view_count": null,
            "flex_flow": null,
            "width": null,
            "min_width": null,
            "border": null,
            "align_items": null,
            "bottom": null,
            "_model_module": "@jupyter-widgets/base",
            "top": null,
            "grid_column": null,
            "overflow_y": null,
            "overflow_x": null,
            "grid_auto_flow": null,
            "grid_area": null,
            "grid_template_columns": null,
            "flex": null,
            "_model_name": "LayoutModel",
            "justify_items": null,
            "grid_row": null,
            "max_height": null,
            "align_content": null,
            "visibility": null,
            "align_self": null,
            "height": null,
            "min_height": null,
            "padding": null,
            "grid_auto_rows": null,
            "grid_gap": null,
            "max_width": null,
            "order": null,
            "_view_module_version": "1.2.0",
            "grid_template_areas": null,
            "object_position": null,
            "object_fit": null,
            "grid_auto_columns": null,
            "margin": null,
            "display": null,
            "left": null
          }
        },
        "4b52f6864abd40c1b08fcdcef84da0b7": {
          "model_module": "@jupyter-widgets/controls",
          "model_name": "RadioButtonsModel",
          "state": {
            "_options_labels": [
              "Singularity Avoidance",
              "Joint Limits",
              "None"
            ],
            "_view_name": "RadioButtonsView",
            "style": "IPY_MODEL_31abfa07ab614e67b60adc154e1c854b",
            "_dom_classes": [],
            "description": "",
            "_model_name": "RadioButtonsModel",
            "index": 0,
            "_view_module": "@jupyter-widgets/controls",
            "_model_module_version": "1.5.0",
            "_view_count": null,
            "disabled": false,
            "_view_module_version": "1.5.0",
            "description_tooltip": null,
            "_model_module": "@jupyter-widgets/controls",
            "layout": "IPY_MODEL_f041d7a6f53842ef97d653b162baab0b"
          }
        },
        "31abfa07ab614e67b60adc154e1c854b": {
          "model_module": "@jupyter-widgets/controls",
          "model_name": "DescriptionStyleModel",
          "state": {
            "_view_name": "StyleView",
            "_model_name": "DescriptionStyleModel",
            "description_width": "",
            "_view_module": "@jupyter-widgets/base",
            "_model_module_version": "1.5.0",
            "_view_count": null,
            "_view_module_version": "1.2.0",
            "_model_module": "@jupyter-widgets/controls"
          }
        },
        "f041d7a6f53842ef97d653b162baab0b": {
          "model_module": "@jupyter-widgets/base",
          "model_name": "LayoutModel",
          "state": {
            "_view_name": "LayoutView",
            "grid_template_rows": null,
            "right": null,
            "justify_content": null,
            "_view_module": "@jupyter-widgets/base",
            "overflow": null,
            "_model_module_version": "1.2.0",
            "_view_count": null,
            "flex_flow": null,
            "width": null,
            "min_width": null,
            "border": null,
            "align_items": null,
            "bottom": null,
            "_model_module": "@jupyter-widgets/base",
            "top": null,
            "grid_column": null,
            "overflow_y": null,
            "overflow_x": null,
            "grid_auto_flow": null,
            "grid_area": null,
            "grid_template_columns": null,
            "flex": null,
            "_model_name": "LayoutModel",
            "justify_items": null,
            "grid_row": null,
            "max_height": null,
            "align_content": null,
            "visibility": null,
            "align_self": null,
            "height": null,
            "min_height": null,
            "padding": null,
            "grid_auto_rows": null,
            "grid_gap": null,
            "max_width": null,
            "order": null,
            "_view_module_version": "1.2.0",
            "grid_template_areas": null,
            "object_position": null,
            "object_fit": null,
            "grid_auto_columns": null,
            "margin": null,
            "display": null,
            "left": null
          }
        }
      }
    }
  },
  "cells": [
    {
      "cell_type": "markdown",
      "metadata": {
        "id": "5fCEDCU_qrC0"
      },
      "source": [
        "## Setup\n",
        "\n",
        "Run this cell first to provision a cloud machine and set up Drake. \n",
        "\n",
        "This may take a minute or two the first time, but once a machine is set up it should be good for about 12 hours. "
      ]
    },
    {
      "cell_type": "code",
      "metadata": {
        "id": "mxmkdKfSVjCK",
        "colab": {
          "base_uri": "https://localhost:8080/"
        },
        "outputId": "0858c40a-cd8d-411a-c7d4-0de11d3b3a39"
      },
      "source": [
        "import importlib\n",
        "import sys\n",
        "import os\n",
        "from urllib.request import urlretrieve\n",
        "import subprocess\n",
        "import shutil\n",
        "\n",
        "drake_url = \"https://drake-packages.csail.mit.edu/tmp/drake-0.27.0-pip-bionic.tar.gz\"\n",
        "assert 'google.colab' in sys.modules, \"This notebook is meant to be run in google colab!\"\n",
        "\n",
        "if importlib.util.find_spec('pydrake') is None:\n",
        "    # We're in colab and don't have pydrake, so install it on the cloud machine.\n",
        "    if os.path.isdir('/opt/drake'):\n",
        "        shutil.rmtree('/opt/drake')\n",
        "    print(\"Installing Drake\")\n",
        "    urlretrieve(drake_url, 'drake.tar.gz')\n",
        "    subprocess.run(['mkdir', '/opt/drake'])\n",
        "    subprocess.run(['tar', '-xzf', 'drake.tar.gz', '-C', '/opt/drake'], check=True)\n",
        "    \n",
        "    print(\"Installing other dependencies\")\n",
        "    subprocess.run([\"pip3\", \"install\", \"meshcat\"])\n",
        "    subprocess.run(['apt-get', 'update', '-o', 'APT::Acquire::Retries=4', '-qq'], check=True)\n",
        "    with open(\"/opt/drake/share/drake/setup/packages-bionic.txt\", \"r\") as f:\n",
        "        packages = f.read().splitlines()\n",
        "    subprocess.run(['apt-get', 'install', '-o',\n",
        "                    'APT::Acquire::Retries=4', '-o', 'Dpkg::Use-Pty=0',\n",
        "                    '-qy', '--no-install-recommends'] + packages,\n",
        "                    check=True)\n",
        "    \n",
        "    v = sys.version_info\n",
        "    path = f\"/opt/drake/lib/python{v.major}.{v.minor}/site-packages\"\n",
        "    if importlib.util.find_spec('pydrake') is None:\n",
        "        sys.path.append(path)\n",
        "\n",
        "# Clone our github repo\n",
        "target_path = '/opt/passivity_cbf_demo'\n",
        "if not os.path.isdir(target_path):\n",
        "    print(\"Cloning github repo\")\n",
        "    subprocess.run(['git','clone','https://github.com/vincekurtz/passivity_cbf_demo.git',target_path])\n",
        "sys.path.append(target_path)\n",
        "\n",
        "print(\"Done!\")\n"
      ],
      "execution_count": 1,
      "outputs": [
        {
          "output_type": "stream",
          "text": [
            "Installing Drake\n",
            "Installing other dependencies\n",
            "Cloning github repo\n",
            "Done!\n"
          ],
          "name": "stdout"
        }
      ]
    },
    {
      "cell_type": "markdown",
      "metadata": {
        "id": "XcqATDUzYw7K"
      },
      "source": [
        "## About This Notebook\n",
        "\n",
        "While you're waiting, here's what this is all about..."
      ]
    },
    {
      "cell_type": "markdown",
      "metadata": {
        "id": "-g_GUYWdj0eW"
      },
      "source": [
        "## Simulation Setup\n",
        "\n"
      ]
    },
    {
      "cell_type": "markdown",
      "metadata": {
        "id": "kz18Q5h67n3R"
      },
      "source": [
        "Choose what controller we'll use and what constraints are active\n",
        "\n",
        "TODO: add summary of each method."
      ]
    },
    {
      "cell_type": "code",
      "metadata": {
        "id": "Beg1rlROep0u",
        "outputId": "0d8c6002-fa7b-4f43-a547-39182f29106e",
        "colab": {
          "base_uri": "https://localhost:8080/",
          "height": 81,
          "referenced_widgets": [
            "121d2d59f9e44c3abd0d222eef4ee209",
            "eb81f71a9f794800b4b798829eaa86b8",
            "cb27fed83863478ca116189ddd0c79b4"
          ]
        }
      },
      "source": [
        "import ipywidgets as widgets\n",
        "\n",
        "ctrl_radio = widgets.RadioButtons(\n",
        "    options=[\"Unconstrained\",\"Standard\",\"Passivity Guaranteed\"],\n",
        "    value=\"Passivity Guaranteed\"\n",
        ")\n",
        "display(ctrl_radio)\n",
        "\n"
      ],
      "execution_count": 15,
      "outputs": [
        {
          "output_type": "display_data",
          "data": {
            "application/vnd.jupyter.widget-view+json": {
              "model_id": "121d2d59f9e44c3abd0d222eef4ee209",
              "version_minor": 0,
              "version_major": 2
            },
            "text/plain": [
              "RadioButtons(index=2, options=('Unconstrained', 'Standard', 'Passivity Guaranteed'), value='Passivity Guarante…"
            ]
          },
          "metadata": {
            "tags": []
          }
        }
      ]
    },
    {
      "cell_type": "markdown",
      "metadata": {
        "id": "gHU1K6dj7yv0"
      },
      "source": [
        "Choose what type of constraints to apply, if any.\n",
        "\n",
        "TODO: add summary of each method. "
      ]
    },
    {
      "cell_type": "code",
      "metadata": {
        "id": "OdNIejxA53hn",
        "outputId": "e1f32216-9901-4e48-9262-ac71566487da",
        "colab": {
          "base_uri": "https://localhost:8080/",
          "height": 81,
          "referenced_widgets": [
            "4b52f6864abd40c1b08fcdcef84da0b7",
            "31abfa07ab614e67b60adc154e1c854b",
            "f041d7a6f53842ef97d653b162baab0b"
          ]
        }
      },
      "source": [
        "cons_radio = widgets.RadioButtons(\n",
        "    options=[\"Singularity Avoidance\", \"Joint Limits\", \"None\"],\n",
        "    value=\"Singularity Avoidance\"\n",
        ")\n",
        "display(cons_radio)"
      ],
      "execution_count": 16,
      "outputs": [
        {
          "output_type": "display_data",
          "data": {
            "application/vnd.jupyter.widget-view+json": {
              "model_id": "4b52f6864abd40c1b08fcdcef84da0b7",
              "version_minor": 0,
              "version_major": 2
            },
            "text/plain": [
              "RadioButtons(options=('Singularity Avoidance', 'Joint Limits', 'None'), value='Singularity Avoidance')"
            ]
          },
          "metadata": {
            "tags": []
          }
        }
      ]
    },
    {
      "cell_type": "markdown",
      "metadata": {
        "id": "Iw6oeX178kw2"
      },
      "source": [
        "## Run the Simulation!"
      ]
    }
  ]
}