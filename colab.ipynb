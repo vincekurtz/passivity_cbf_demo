{
  "nbformat": 4,
  "nbformat_minor": 0,
  "metadata": {
    "colab": {
      "name": "Constrained Passivity-Based Control",
      "provenance": [],
      "collapsed_sections": [],
      "toc_visible": true
    },
    "kernelspec": {
      "display_name": "Python 3",
      "name": "python3"
    }
  },
  "cells": [
    {
      "cell_type": "markdown",
      "metadata": {
        "id": "5fCEDCU_qrC0"
      },
      "source": [
        "## Heading\n",
        "\n",
        "Here is more description. This is **bold**."
      ]
    },
    {
      "cell_type": "code",
      "metadata": {
        "id": "mxmkdKfSVjCK",
        "outputId": "28000cf1-742d-4608-df6b-7077b79fdc79",
        "colab": {
          "base_uri": "https://localhost:8080/"
        }
      },
      "source": [
        "print(\"hello world\")"
      ],
      "execution_count": 9,
      "outputs": [
        {
          "output_type": "stream",
          "text": [
            "hello world\n"
          ],
          "name": "stdout"
        }
      ]
    }
  ]
}
