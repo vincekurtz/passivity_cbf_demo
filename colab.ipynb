{
 "cells": [
  {
   "cell_type": "markdown",
   "metadata": {
    "id": "5fCEDCU_qrC0"
   },
   "source": [
    "## Notebook Setup\n",
    "\n",
    "**Run this cell first to provision a cloud machine and set up Drake.**\n",
    "\n",
    "This may take a minute or two the first time, but once a machine is set up it should be good for about 12 hours. "
   ]
  },
  {
   "cell_type": "code",
   "execution_count": null,
   "metadata": {
    "colab": {
     "base_uri": "https://localhost:8080/"
    },
    "id": "mxmkdKfSVjCK",
    "outputId": "89d7713f-a2cb-4bc3-e80c-8a512b18bd8a"
   },
   "outputs": [],
   "source": [
    "import importlib\n",
    "import sys\n",
    "import os\n",
    "from urllib.request import urlretrieve\n",
    "import subprocess\n",
    "import shutil\n",
    "\n",
    "assert 'google.colab' in sys.modules, \"This notebook is meant to be run in google colab!\"\n",
    "\n",
    "drake_url = \"https://drake-packages.csail.mit.edu/tmp/drake-0.27.0-pip-bionic.tar.gz\"\n",
    "if importlib.util.find_spec('pydrake') is None:\n",
    "    # We're in colab and don't have pydrake, so install it on the cloud machine.\n",
    "    if os.path.isdir('/opt/drake'):\n",
    "        shutil.rmtree('/opt/drake')\n",
    "    print(\"Installing Drake\")\n",
    "    urlretrieve(drake_url, 'drake.tar.gz')\n",
    "    subprocess.run(['mkdir', '/opt/drake'])\n",
    "    subprocess.run(['tar', '-xzf', 'drake.tar.gz', '-C', '/opt/drake'], check=True)\n",
    "    \n",
    "    print(\"Installing other dependencies\")\n",
    "    subprocess.run([\"pip3\", \"install\", \"meshcat\"])\n",
    "    subprocess.run(['apt-get', 'update', '-o', 'APT::Acquire::Retries=4', '-qq'], check=True)\n",
    "    with open(\"/opt/drake/share/drake/setup/packages-bionic.txt\", \"r\") as f:\n",
    "        packages = f.read().splitlines()\n",
    "    subprocess.run(['apt-get', 'install', '-o',\n",
    "                    'APT::Acquire::Retries=4', '-o', 'Dpkg::Use-Pty=0',\n",
    "                    '-qy', '--no-install-recommends'] + packages,\n",
    "                    check=True)\n",
    "    \n",
    "    v = sys.version_info\n",
    "    path = f\"/opt/drake/lib/python{v.major}.{v.minor}/site-packages\"\n",
    "    if importlib.util.find_spec('pydrake') is None:\n",
    "        sys.path.append(path)\n",
    "\n",
    "# Start a meshcat server\n",
    "print(\"Starting Meshcat\")\n",
    "from meshcat.servers.zmqserver import start_zmq_server_as_subprocess\n",
    "proc, zmq_url, web_url = start_zmq_server_as_subprocess(server_args=['--ngrok_http_tunnel'])\n",
    "\n",
    "# Clone our github repo\n",
    "install_path = '/opt/passivity_cbf_demo'\n",
    "if not os.path.isdir(install_path):\n",
    "    print(\"Cloning github repo\")\n",
    "    subprocess.run(['git','clone','https://github.com/vincekurtz/passivity_cbf_demo.git',install_path])\n",
    "sys.path.append(install_path)\n",
    "\n",
    "print(\"Done!\")\n"
   ]
  },
  {
   "cell_type": "code",
   "execution_count": 1,
   "metadata": {},
   "outputs": [],
   "source": [
    "install_path = \"./\"\n",
    "from meshcat.servers.zmqserver import start_zmq_server_as_subprocess\n",
    "proc, zmq_url, web_url = start_zmq_server_as_subprocess()"
   ]
  },
  {
   "cell_type": "markdown",
   "metadata": {
    "id": "XcqATDUzYw7K"
   },
   "source": [
    "## About \n",
    "\n",
    "While you're waiting, here's what this is all about..."
   ]
  },
  {
   "cell_type": "markdown",
   "metadata": {
    "id": "-g_GUYWdj0eW"
   },
   "source": [
    "## Simulation Setup\n",
    "\n"
   ]
  },
  {
   "cell_type": "markdown",
   "metadata": {
    "id": "kz18Q5h67n3R"
   },
   "source": [
    "Choose what control method to use."
   ]
  },
  {
   "cell_type": "code",
   "execution_count": 2,
   "metadata": {
    "colab": {
     "base_uri": "https://localhost:8080/",
     "height": 81,
     "referenced_widgets": [
      "e0f2a5d5ff4243afa775c13060c53863",
      "5947c0d5f58448da9417c8aeaab6a7a1",
      "3261b166647c4d6cbb7a1dab3e8086be"
     ]
    },
    "id": "Beg1rlROep0u",
    "outputId": "2ad92c37-02bf-4984-b801-691f49484dde"
   },
   "outputs": [
    {
     "data": {
      "application/vnd.jupyter.widget-view+json": {
       "model_id": "559f9f75a635487fb2595a84a0e3cfca",
       "version_major": 2,
       "version_minor": 0
      },
      "text/plain": [
       "RadioButtons(index=2, options=('Unconstrained', 'Standard', 'Passivity Guaranteed'), value='Passivity Guarante…"
      ]
     },
     "metadata": {},
     "output_type": "display_data"
    }
   ],
   "source": [
    "import ipywidgets as widgets\n",
    "\n",
    "ctrl_radio = widgets.RadioButtons(\n",
    "    options=[\"Unconstrained\",\"Standard\",\"Passivity Guaranteed\"],\n",
    "    value=\"Passivity Guaranteed\"\n",
    ")\n",
    "display(ctrl_radio)\n",
    "\n"
   ]
  },
  {
   "cell_type": "markdown",
   "metadata": {
    "id": "gHU1K6dj7yv0"
   },
   "source": [
    "Choose what type of constraints to apply, if any."
   ]
  },
  {
   "cell_type": "code",
   "execution_count": 3,
   "metadata": {
    "colab": {
     "base_uri": "https://localhost:8080/",
     "height": 81,
     "referenced_widgets": [
      "a655691403e14fee88f94e12eb9c2da0",
      "7e6288c46ec844e48260d397cff578be",
      "a10342ab58704bb5b1117896328d3250"
     ]
    },
    "id": "OdNIejxA53hn",
    "outputId": "aafd2422-b399-4e2c-ceb9-6b2b1f84f808"
   },
   "outputs": [
    {
     "data": {
      "application/vnd.jupyter.widget-view+json": {
       "model_id": "135a9d8d886e42c2afc825c2ff5cb257",
       "version_major": 2,
       "version_minor": 0
      },
      "text/plain": [
       "RadioButtons(options=('Singularity Avoidance', 'Joint Limits', 'None'), value='Singularity Avoidance')"
      ]
     },
     "metadata": {},
     "output_type": "display_data"
    }
   ],
   "source": [
    "cons_radio = widgets.RadioButtons(\n",
    "    options=[\"Singularity Avoidance\", \"Joint Limits\", \"None\"],\n",
    "    value=\"Singularity Avoidance\"\n",
    ")\n",
    "display(cons_radio)"
   ]
  },
  {
   "cell_type": "markdown",
   "metadata": {
    "id": "Iw6oeX178kw2"
   },
   "source": [
    "## Run the Simulation!"
   ]
  },
  {
   "cell_type": "markdown",
   "metadata": {
    "id": "OdcQGn8Pn2Fw"
   },
   "source": [
    "Run this cell to initialize the simulation with the options specified above"
   ]
  },
  {
   "cell_type": "code",
   "execution_count": 4,
   "metadata": {
    "colab": {
     "base_uri": "https://localhost:8080/"
    },
    "id": "eT7zQ06M9YYD",
    "outputId": "7e27dff0-fe4b-4c3c-c68d-4100a5ce969b"
   },
   "outputs": [
    {
     "name": "stdout",
     "output_type": "stream",
     "text": [
      "setting up display\n",
      "Connecting to meshcat-server at zmq_url=tcp://127.0.0.1:6002...\n",
      "You can open the visualizer by visiting the following URL:\n",
      "http://127.0.0.1:7002/static/\n",
      "Connected to meshcat-server.\n",
      "Ready to Simulate!\n"
     ]
    },
    {
     "name": "stderr",
     "output_type": "stream",
     "text": [
      "/home/vjkurtz/builds/drake/drake-build/install/lib/python3.8/site-packages/pydrake/systems/meshcat_visualizer.py:417: UserWarning: Unsupported shape <pydrake.geometry.HalfSpace object at 0x7fd7fa4d25b0> ignored\n",
      "  warnings.warn(f\"Unsupported shape {shape} ignored\")\n"
     ]
    }
   ],
   "source": [
    "from colab_utils import *\n",
    "\n",
    "simulator, gui = setup_colab_simulation(ctrl_radio.value, cons_radio.value, \n",
    "                                   install_path, zmq_url)\n"
   ]
  },
  {
   "cell_type": "markdown",
   "metadata": {
    "id": "ElvcTcI6nnBE"
   },
   "source": [
    "You can open the URL above to see the simulation in a different window, or simply run the code block below to embed the visualizer in this page. \n",
    "\n",
    "\n"
   ]
  },
  {
   "cell_type": "code",
   "execution_count": null,
   "metadata": {
    "colab": {
     "base_uri": "https://localhost:8080/",
     "height": 425
    },
    "id": "RjmUt_D8COb8",
    "outputId": "a7fd3d43-a31f-4fd4-d5d4-e018d602659f"
   },
   "outputs": [],
   "source": [
    "import IPython\n",
    "width=800\n",
    "height=400\n",
    "if web_url[:5] != 'https':\n",
    "    web_url = 'https' + web_url[4:]\n",
    "iframe = '<iframe src=' + web_url + ' width=' + str(width) + ' height=' + str(height) + '></iframe>'\n",
    "IPython.display.HTML(iframe)"
   ]
  },
  {
   "cell_type": "code",
   "execution_count": 6,
   "metadata": {
    "colab": {
     "base_uri": "https://localhost:8080/"
    },
    "id": "2Abtt6yMAlxA",
    "outputId": "a4aeccdf-5e7a-4ca7-beea-70b49c06b766"
   },
   "outputs": [
    {
     "data": {
      "application/vnd.jupyter.widget-view+json": {
       "model_id": "bdc4726ed53149c49ef3aab050665818",
       "version_major": 2,
       "version_minor": 0
      },
      "text/plain": [
       "FloatSlider(value=3.1368146928204155, description='Roll', max=6.283185307179586, min=-6.283185307179586, step=…"
      ]
     },
     "metadata": {},
     "output_type": "display_data"
    },
    {
     "data": {
      "application/vnd.jupyter.widget-view+json": {
       "model_id": "b2992e288d674247ba33e3b8e1e9e1f7",
       "version_major": 2,
       "version_minor": 0
      },
      "text/plain": [
       "FloatSlider(value=-0.0007963267948962738, description='Pitch', max=1.2707963267948965, min=-1.2707963267948965…"
      ]
     },
     "metadata": {},
     "output_type": "display_data"
    },
    {
     "data": {
      "application/vnd.jupyter.widget-view+json": {
       "model_id": "97145a271064443380c425440f57a2d2",
       "version_major": 2,
       "version_minor": 0
      },
      "text/plain": [
       "FloatSlider(value=1.5668146928204134, description='Yaw', max=6.283185307179586, min=-6.283185307179586, step=0…"
      ]
     },
     "metadata": {},
     "output_type": "display_data"
    },
    {
     "data": {
      "application/vnd.jupyter.widget-view+json": {
       "model_id": "e132c3161a714cd7905a144adeae1bed",
       "version_major": 2,
       "version_minor": 0
      },
      "text/plain": [
       "FloatSlider(value=0.19999999999999996, description='X', max=1.0, min=-1.0, step=0.01)"
      ]
     },
     "metadata": {},
     "output_type": "display_data"
    },
    {
     "data": {
      "application/vnd.jupyter.widget-view+json": {
       "model_id": "77246a220c2b4fd99a51ebf8e14a449f",
       "version_major": 2,
       "version_minor": 0
      },
      "text/plain": [
       "FloatSlider(value=0.3999999999999999, description='Y', max=1.0, min=-1.0, step=0.01)"
      ]
     },
     "metadata": {},
     "output_type": "display_data"
    },
    {
     "data": {
      "application/vnd.jupyter.widget-view+json": {
       "model_id": "67a5b5bedd1b4ba19270a2ca28f60d1f",
       "version_major": 2,
       "version_minor": 0
      },
      "text/plain": [
       "FloatSlider(value=0.37, description='Z', max=1.0, step=0.01)"
      ]
     },
     "metadata": {},
     "output_type": "display_data"
    },
    {
     "data": {
      "application/vnd.jupyter.widget-view+json": {
       "model_id": "f64cc2bd43454c659ec1ef6d089d7c9b",
       "version_major": 2,
       "version_minor": 0
      },
      "text/plain": [
       "ToggleButton(value=True, description='Toggle Gripper')"
      ]
     },
     "metadata": {},
     "output_type": "display_data"
    },
    {
     "data": {
      "application/vnd.jupyter.widget-view+json": {
       "model_id": "d69b17842489440ca0d8ba8ea78e72ba",
       "version_major": 2,
       "version_minor": 0
      },
      "text/plain": [
       "ToggleButton(value=False, description='Stop Simulation')"
      ]
     },
     "metadata": {},
     "output_type": "display_data"
    }
   ],
   "source": [
    "import threading\n",
    "\n",
    "# Show sliders for controlling the target end-effector pose\n",
    "display_gui(gui)\n",
    "stop_button = widgets.ToggleButton(value=False, description='Stop Simulation')\n",
    "display(stop_button)\n",
    "\n",
    "# Run the simulation in a separate thread so we can stop it with a button press\n",
    "def run_sim():\n",
    "    while not stop_button.value:\n",
    "        simulator.AdvanceTo(simulator.get_context().get_time() + 1.0)\n",
    "thread = threading.Thread(target=run_sim)\n",
    "thread.start()\n"
   ]
  }
 ],
 "metadata": {
  "colab": {
   "collapsed_sections": [],
   "name": "Constrained Passivity-Based Control",
   "provenance": [],
   "toc_visible": true
  },
  "kernelspec": {
   "display_name": "Python 3",
   "language": "python",
   "name": "python3"
  },
  "language_info": {
   "codemirror_mode": {
    "name": "ipython",
    "version": 3
   },
   "file_extension": ".py",
   "mimetype": "text/x-python",
   "name": "python",
   "nbconvert_exporter": "python",
   "pygments_lexer": "ipython3",
   "version": "3.8.5"
  },
  "widgets": {
   "application/vnd.jupyter.widget-state+json": {
    "3261b166647c4d6cbb7a1dab3e8086be": {
     "model_module": "@jupyter-widgets/base",
     "model_name": "LayoutModel",
     "state": {
      "_model_module": "@jupyter-widgets/base",
      "_model_module_version": "1.2.0",
      "_model_name": "LayoutModel",
      "_view_count": null,
      "_view_module": "@jupyter-widgets/base",
      "_view_module_version": "1.2.0",
      "_view_name": "LayoutView",
      "align_content": null,
      "align_items": null,
      "align_self": null,
      "border": null,
      "bottom": null,
      "display": null,
      "flex": null,
      "flex_flow": null,
      "grid_area": null,
      "grid_auto_columns": null,
      "grid_auto_flow": null,
      "grid_auto_rows": null,
      "grid_column": null,
      "grid_gap": null,
      "grid_row": null,
      "grid_template_areas": null,
      "grid_template_columns": null,
      "grid_template_rows": null,
      "height": null,
      "justify_content": null,
      "justify_items": null,
      "left": null,
      "margin": null,
      "max_height": null,
      "max_width": null,
      "min_height": null,
      "min_width": null,
      "object_fit": null,
      "object_position": null,
      "order": null,
      "overflow": null,
      "overflow_x": null,
      "overflow_y": null,
      "padding": null,
      "right": null,
      "top": null,
      "visibility": null,
      "width": null
     }
    },
    "5947c0d5f58448da9417c8aeaab6a7a1": {
     "model_module": "@jupyter-widgets/controls",
     "model_name": "DescriptionStyleModel",
     "state": {
      "_model_module": "@jupyter-widgets/controls",
      "_model_module_version": "1.5.0",
      "_model_name": "DescriptionStyleModel",
      "_view_count": null,
      "_view_module": "@jupyter-widgets/base",
      "_view_module_version": "1.2.0",
      "_view_name": "StyleView",
      "description_width": ""
     }
    },
    "7e6288c46ec844e48260d397cff578be": {
     "model_module": "@jupyter-widgets/controls",
     "model_name": "DescriptionStyleModel",
     "state": {
      "_model_module": "@jupyter-widgets/controls",
      "_model_module_version": "1.5.0",
      "_model_name": "DescriptionStyleModel",
      "_view_count": null,
      "_view_module": "@jupyter-widgets/base",
      "_view_module_version": "1.2.0",
      "_view_name": "StyleView",
      "description_width": ""
     }
    },
    "a10342ab58704bb5b1117896328d3250": {
     "model_module": "@jupyter-widgets/base",
     "model_name": "LayoutModel",
     "state": {
      "_model_module": "@jupyter-widgets/base",
      "_model_module_version": "1.2.0",
      "_model_name": "LayoutModel",
      "_view_count": null,
      "_view_module": "@jupyter-widgets/base",
      "_view_module_version": "1.2.0",
      "_view_name": "LayoutView",
      "align_content": null,
      "align_items": null,
      "align_self": null,
      "border": null,
      "bottom": null,
      "display": null,
      "flex": null,
      "flex_flow": null,
      "grid_area": null,
      "grid_auto_columns": null,
      "grid_auto_flow": null,
      "grid_auto_rows": null,
      "grid_column": null,
      "grid_gap": null,
      "grid_row": null,
      "grid_template_areas": null,
      "grid_template_columns": null,
      "grid_template_rows": null,
      "height": null,
      "justify_content": null,
      "justify_items": null,
      "left": null,
      "margin": null,
      "max_height": null,
      "max_width": null,
      "min_height": null,
      "min_width": null,
      "object_fit": null,
      "object_position": null,
      "order": null,
      "overflow": null,
      "overflow_x": null,
      "overflow_y": null,
      "padding": null,
      "right": null,
      "top": null,
      "visibility": null,
      "width": null
     }
    },
    "a655691403e14fee88f94e12eb9c2da0": {
     "model_module": "@jupyter-widgets/controls",
     "model_name": "RadioButtonsModel",
     "state": {
      "_dom_classes": [],
      "_model_module": "@jupyter-widgets/controls",
      "_model_module_version": "1.5.0",
      "_model_name": "RadioButtonsModel",
      "_options_labels": [
       "Singularity Avoidance",
       "Joint Limits",
       "None"
      ],
      "_view_count": null,
      "_view_module": "@jupyter-widgets/controls",
      "_view_module_version": "1.5.0",
      "_view_name": "RadioButtonsView",
      "description": "",
      "description_tooltip": null,
      "disabled": false,
      "index": 2,
      "layout": "IPY_MODEL_a10342ab58704bb5b1117896328d3250",
      "style": "IPY_MODEL_7e6288c46ec844e48260d397cff578be"
     }
    },
    "e0f2a5d5ff4243afa775c13060c53863": {
     "model_module": "@jupyter-widgets/controls",
     "model_name": "RadioButtonsModel",
     "state": {
      "_dom_classes": [],
      "_model_module": "@jupyter-widgets/controls",
      "_model_module_version": "1.5.0",
      "_model_name": "RadioButtonsModel",
      "_options_labels": [
       "Unconstrained",
       "Standard",
       "Passivity Guaranteed"
      ],
      "_view_count": null,
      "_view_module": "@jupyter-widgets/controls",
      "_view_module_version": "1.5.0",
      "_view_name": "RadioButtonsView",
      "description": "",
      "description_tooltip": null,
      "disabled": false,
      "index": 2,
      "layout": "IPY_MODEL_3261b166647c4d6cbb7a1dab3e8086be",
      "style": "IPY_MODEL_5947c0d5f58448da9417c8aeaab6a7a1"
     }
    }
   }
  }
 },
 "nbformat": 4,
 "nbformat_minor": 1
}
