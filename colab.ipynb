{
  "nbformat": 4,
  "nbformat_minor": 0,
  "metadata": {
    "colab": {
      "name": "Constrained Passivity-Based Control",
      "provenance": [],
      "collapsed_sections": [],
      "toc_visible": true
    },
    "kernelspec": {
      "display_name": "Python 3",
      "language": "python",
      "name": "python3"
    },
    "language_info": {
      "codemirror_mode": {
        "name": "ipython",
        "version": 3
      },
      "file_extension": ".py",
      "mimetype": "text/x-python",
      "name": "python",
      "nbconvert_exporter": "python",
      "pygments_lexer": "ipython3",
      "version": "3.8.5"
    },
    "widgets": {
      "application/vnd.jupyter.widget-state+json": {
        "82d6eddb13b14914b6e6a20113ce9c85": {
          "model_module": "@jupyter-widgets/controls",
          "model_name": "RadioButtonsModel",
          "state": {
            "_options_labels": [
              "Unconstrained",
              "Standard",
              "Passivity Guaranteed"
            ],
            "_view_name": "RadioButtonsView",
            "style": "IPY_MODEL_47869877ee8d4677b1d7ea19fbc2f706",
            "_dom_classes": [],
            "description": "Control Method:",
            "_model_name": "RadioButtonsModel",
            "index": 2,
            "_view_module": "@jupyter-widgets/controls",
            "_model_module_version": "1.5.0",
            "_view_count": null,
            "disabled": false,
            "_view_module_version": "1.5.0",
            "description_tooltip": null,
            "_model_module": "@jupyter-widgets/controls",
            "layout": "IPY_MODEL_44e02df752d149e1a30ccab045907097"
          }
        },
        "47869877ee8d4677b1d7ea19fbc2f706": {
          "model_module": "@jupyter-widgets/controls",
          "model_name": "DescriptionStyleModel",
          "state": {
            "_view_name": "StyleView",
            "_model_name": "DescriptionStyleModel",
            "description_width": "initial",
            "_view_module": "@jupyter-widgets/base",
            "_model_module_version": "1.5.0",
            "_view_count": null,
            "_view_module_version": "1.2.0",
            "_model_module": "@jupyter-widgets/controls"
          }
        },
        "44e02df752d149e1a30ccab045907097": {
          "model_module": "@jupyter-widgets/base",
          "model_name": "LayoutModel",
          "state": {
            "_view_name": "LayoutView",
            "grid_template_rows": null,
            "right": null,
            "justify_content": null,
            "_view_module": "@jupyter-widgets/base",
            "overflow": null,
            "_model_module_version": "1.2.0",
            "_view_count": null,
            "flex_flow": null,
            "width": null,
            "min_width": null,
            "border": null,
            "align_items": null,
            "bottom": null,
            "_model_module": "@jupyter-widgets/base",
            "top": null,
            "grid_column": null,
            "overflow_y": null,
            "overflow_x": null,
            "grid_auto_flow": null,
            "grid_area": null,
            "grid_template_columns": null,
            "flex": null,
            "_model_name": "LayoutModel",
            "justify_items": null,
            "grid_row": null,
            "max_height": null,
            "align_content": null,
            "visibility": null,
            "align_self": null,
            "height": null,
            "min_height": null,
            "padding": null,
            "grid_auto_rows": null,
            "grid_gap": null,
            "max_width": null,
            "order": null,
            "_view_module_version": "1.2.0",
            "grid_template_areas": null,
            "object_position": null,
            "object_fit": null,
            "grid_auto_columns": null,
            "margin": null,
            "display": null,
            "left": null
          }
        },
        "07cdd9ce209e43cda10dcadd2c9b0371": {
          "model_module": "@jupyter-widgets/controls",
          "model_name": "RadioButtonsModel",
          "state": {
            "_options_labels": [
              "Singularity Avoidance",
              "Joint Limits",
              "None"
            ],
            "_view_name": "RadioButtonsView",
            "style": "IPY_MODEL_5a5d76012355456aaf173b2bb6afa65b",
            "_dom_classes": [],
            "description": "Constraint Type:",
            "_model_name": "RadioButtonsModel",
            "index": 0,
            "_view_module": "@jupyter-widgets/controls",
            "_model_module_version": "1.5.0",
            "_view_count": null,
            "disabled": false,
            "_view_module_version": "1.5.0",
            "description_tooltip": null,
            "_model_module": "@jupyter-widgets/controls",
            "layout": "IPY_MODEL_b7b4b219461b4ca396832e7bec30f5c4"
          }
        },
        "5a5d76012355456aaf173b2bb6afa65b": {
          "model_module": "@jupyter-widgets/controls",
          "model_name": "DescriptionStyleModel",
          "state": {
            "_view_name": "StyleView",
            "_model_name": "DescriptionStyleModel",
            "description_width": "initial",
            "_view_module": "@jupyter-widgets/base",
            "_model_module_version": "1.5.0",
            "_view_count": null,
            "_view_module_version": "1.2.0",
            "_model_module": "@jupyter-widgets/controls"
          }
        },
        "b7b4b219461b4ca396832e7bec30f5c4": {
          "model_module": "@jupyter-widgets/base",
          "model_name": "LayoutModel",
          "state": {
            "_view_name": "LayoutView",
            "grid_template_rows": null,
            "right": null,
            "justify_content": null,
            "_view_module": "@jupyter-widgets/base",
            "overflow": null,
            "_model_module_version": "1.2.0",
            "_view_count": null,
            "flex_flow": null,
            "width": null,
            "min_width": null,
            "border": null,
            "align_items": null,
            "bottom": null,
            "_model_module": "@jupyter-widgets/base",
            "top": null,
            "grid_column": null,
            "overflow_y": null,
            "overflow_x": null,
            "grid_auto_flow": null,
            "grid_area": null,
            "grid_template_columns": null,
            "flex": null,
            "_model_name": "LayoutModel",
            "justify_items": null,
            "grid_row": null,
            "max_height": null,
            "align_content": null,
            "visibility": null,
            "align_self": null,
            "height": null,
            "min_height": null,
            "padding": null,
            "grid_auto_rows": null,
            "grid_gap": null,
            "max_width": null,
            "order": null,
            "_view_module_version": "1.2.0",
            "grid_template_areas": null,
            "object_position": null,
            "object_fit": null,
            "grid_auto_columns": null,
            "margin": null,
            "display": null,
            "left": null
          }
        },
        "76f1b54a9a2f4364b5f8bc09b4dfde92": {
          "model_module": "@jupyter-widgets/controls",
          "model_name": "FloatSliderModel",
          "state": {
            "_view_name": "FloatSliderView",
            "style": "IPY_MODEL_987f4b8662e74e6d802812ff2b85e58d",
            "_dom_classes": [],
            "description": "Roll",
            "step": 0.01,
            "_model_name": "FloatSliderModel",
            "orientation": "horizontal",
            "max": 6.283185307179586,
            "_view_module": "@jupyter-widgets/controls",
            "_model_module_version": "1.5.0",
            "value": 3.141592653589793,
            "_view_count": null,
            "disabled": false,
            "_view_module_version": "1.5.0",
            "min": 0,
            "continuous_update": true,
            "readout_format": ".2f",
            "description_tooltip": null,
            "readout": true,
            "_model_module": "@jupyter-widgets/controls",
            "layout": "IPY_MODEL_8d3c101d8a9d4f519b0e20012db6063b"
          }
        },
        "987f4b8662e74e6d802812ff2b85e58d": {
          "model_module": "@jupyter-widgets/controls",
          "model_name": "SliderStyleModel",
          "state": {
            "_view_name": "StyleView",
            "handle_color": null,
            "_model_name": "SliderStyleModel",
            "description_width": "",
            "_view_module": "@jupyter-widgets/base",
            "_model_module_version": "1.5.0",
            "_view_count": null,
            "_view_module_version": "1.2.0",
            "_model_module": "@jupyter-widgets/controls"
          }
        },
        "8d3c101d8a9d4f519b0e20012db6063b": {
          "model_module": "@jupyter-widgets/base",
          "model_name": "LayoutModel",
          "state": {
            "_view_name": "LayoutView",
            "grid_template_rows": null,
            "right": null,
            "justify_content": null,
            "_view_module": "@jupyter-widgets/base",
            "overflow": null,
            "_model_module_version": "1.2.0",
            "_view_count": null,
            "flex_flow": null,
            "width": null,
            "min_width": null,
            "border": null,
            "align_items": null,
            "bottom": null,
            "_model_module": "@jupyter-widgets/base",
            "top": null,
            "grid_column": null,
            "overflow_y": null,
            "overflow_x": null,
            "grid_auto_flow": null,
            "grid_area": null,
            "grid_template_columns": null,
            "flex": null,
            "_model_name": "LayoutModel",
            "justify_items": null,
            "grid_row": null,
            "max_height": null,
            "align_content": null,
            "visibility": null,
            "align_self": null,
            "height": null,
            "min_height": null,
            "padding": null,
            "grid_auto_rows": null,
            "grid_gap": null,
            "max_width": null,
            "order": null,
            "_view_module_version": "1.2.0",
            "grid_template_areas": null,
            "object_position": null,
            "object_fit": null,
            "grid_auto_columns": null,
            "margin": null,
            "display": null,
            "left": null
          }
        },
        "6453863cbf374ec8b0dc26681eda3ca4": {
          "model_module": "@jupyter-widgets/controls",
          "model_name": "FloatSliderModel",
          "state": {
            "_view_name": "FloatSliderView",
            "style": "IPY_MODEL_5fdc24ee21cc42f4939a084a89c7b7c8",
            "_dom_classes": [],
            "description": "Pitch",
            "step": 0.01,
            "_model_name": "FloatSliderModel",
            "orientation": "horizontal",
            "max": 1.2707963267948965,
            "_view_module": "@jupyter-widgets/controls",
            "_model_module_version": "1.5.0",
            "value": 0,
            "_view_count": null,
            "disabled": false,
            "_view_module_version": "1.5.0",
            "min": -1.2707963267948965,
            "continuous_update": true,
            "readout_format": ".2f",
            "description_tooltip": null,
            "readout": true,
            "_model_module": "@jupyter-widgets/controls",
            "layout": "IPY_MODEL_aca7e73917844e178c7ae7f2f8cf2046"
          }
        },
        "5fdc24ee21cc42f4939a084a89c7b7c8": {
          "model_module": "@jupyter-widgets/controls",
          "model_name": "SliderStyleModel",
          "state": {
            "_view_name": "StyleView",
            "handle_color": null,
            "_model_name": "SliderStyleModel",
            "description_width": "",
            "_view_module": "@jupyter-widgets/base",
            "_model_module_version": "1.5.0",
            "_view_count": null,
            "_view_module_version": "1.2.0",
            "_model_module": "@jupyter-widgets/controls"
          }
        },
        "aca7e73917844e178c7ae7f2f8cf2046": {
          "model_module": "@jupyter-widgets/base",
          "model_name": "LayoutModel",
          "state": {
            "_view_name": "LayoutView",
            "grid_template_rows": null,
            "right": null,
            "justify_content": null,
            "_view_module": "@jupyter-widgets/base",
            "overflow": null,
            "_model_module_version": "1.2.0",
            "_view_count": null,
            "flex_flow": null,
            "width": null,
            "min_width": null,
            "border": null,
            "align_items": null,
            "bottom": null,
            "_model_module": "@jupyter-widgets/base",
            "top": null,
            "grid_column": null,
            "overflow_y": null,
            "overflow_x": null,
            "grid_auto_flow": null,
            "grid_area": null,
            "grid_template_columns": null,
            "flex": null,
            "_model_name": "LayoutModel",
            "justify_items": null,
            "grid_row": null,
            "max_height": null,
            "align_content": null,
            "visibility": null,
            "align_self": null,
            "height": null,
            "min_height": null,
            "padding": null,
            "grid_auto_rows": null,
            "grid_gap": null,
            "max_width": null,
            "order": null,
            "_view_module_version": "1.2.0",
            "grid_template_areas": null,
            "object_position": null,
            "object_fit": null,
            "grid_auto_columns": null,
            "margin": null,
            "display": null,
            "left": null
          }
        },
        "2759b69967564724a040c5050f7cc716": {
          "model_module": "@jupyter-widgets/controls",
          "model_name": "FloatSliderModel",
          "state": {
            "_view_name": "FloatSliderView",
            "style": "IPY_MODEL_0336c113e1d64aff83968474a50e1287",
            "_dom_classes": [],
            "description": "Yaw",
            "step": 0.01,
            "_model_name": "FloatSliderModel",
            "orientation": "horizontal",
            "max": 6.283185307179586,
            "_view_module": "@jupyter-widgets/controls",
            "_model_module_version": "1.5.0",
            "value": 1.5707963267948966,
            "_view_count": null,
            "disabled": false,
            "_view_module_version": "1.5.0",
            "min": 0,
            "continuous_update": true,
            "readout_format": ".2f",
            "description_tooltip": null,
            "readout": true,
            "_model_module": "@jupyter-widgets/controls",
            "layout": "IPY_MODEL_619731e3bfce4fe790c97b6a95d062e9"
          }
        },
        "0336c113e1d64aff83968474a50e1287": {
          "model_module": "@jupyter-widgets/controls",
          "model_name": "SliderStyleModel",
          "state": {
            "_view_name": "StyleView",
            "handle_color": null,
            "_model_name": "SliderStyleModel",
            "description_width": "",
            "_view_module": "@jupyter-widgets/base",
            "_model_module_version": "1.5.0",
            "_view_count": null,
            "_view_module_version": "1.2.0",
            "_model_module": "@jupyter-widgets/controls"
          }
        },
        "619731e3bfce4fe790c97b6a95d062e9": {
          "model_module": "@jupyter-widgets/base",
          "model_name": "LayoutModel",
          "state": {
            "_view_name": "LayoutView",
            "grid_template_rows": null,
            "right": null,
            "justify_content": null,
            "_view_module": "@jupyter-widgets/base",
            "overflow": null,
            "_model_module_version": "1.2.0",
            "_view_count": null,
            "flex_flow": null,
            "width": null,
            "min_width": null,
            "border": null,
            "align_items": null,
            "bottom": null,
            "_model_module": "@jupyter-widgets/base",
            "top": null,
            "grid_column": null,
            "overflow_y": null,
            "overflow_x": null,
            "grid_auto_flow": null,
            "grid_area": null,
            "grid_template_columns": null,
            "flex": null,
            "_model_name": "LayoutModel",
            "justify_items": null,
            "grid_row": null,
            "max_height": null,
            "align_content": null,
            "visibility": null,
            "align_self": null,
            "height": null,
            "min_height": null,
            "padding": null,
            "grid_auto_rows": null,
            "grid_gap": null,
            "max_width": null,
            "order": null,
            "_view_module_version": "1.2.0",
            "grid_template_areas": null,
            "object_position": null,
            "object_fit": null,
            "grid_auto_columns": null,
            "margin": null,
            "display": null,
            "left": null
          }
        },
        "6d5c3f926a7140e8aadf02f1f76b595b": {
          "model_module": "@jupyter-widgets/controls",
          "model_name": "FloatSliderModel",
          "state": {
            "_view_name": "FloatSliderView",
            "style": "IPY_MODEL_0104ef1ad97c48aa8b27404c612262d0",
            "_dom_classes": [],
            "description": "X",
            "step": 0.01,
            "_model_name": "FloatSliderModel",
            "orientation": "horizontal",
            "max": 1,
            "_view_module": "@jupyter-widgets/controls",
            "_model_module_version": "1.5.0",
            "value": 0.2,
            "_view_count": null,
            "disabled": false,
            "_view_module_version": "1.5.0",
            "min": -1,
            "continuous_update": true,
            "readout_format": ".2f",
            "description_tooltip": null,
            "readout": true,
            "_model_module": "@jupyter-widgets/controls",
            "layout": "IPY_MODEL_2ed83ccaa955405d8308890186f30313"
          }
        },
        "0104ef1ad97c48aa8b27404c612262d0": {
          "model_module": "@jupyter-widgets/controls",
          "model_name": "SliderStyleModel",
          "state": {
            "_view_name": "StyleView",
            "handle_color": null,
            "_model_name": "SliderStyleModel",
            "description_width": "",
            "_view_module": "@jupyter-widgets/base",
            "_model_module_version": "1.5.0",
            "_view_count": null,
            "_view_module_version": "1.2.0",
            "_model_module": "@jupyter-widgets/controls"
          }
        },
        "2ed83ccaa955405d8308890186f30313": {
          "model_module": "@jupyter-widgets/base",
          "model_name": "LayoutModel",
          "state": {
            "_view_name": "LayoutView",
            "grid_template_rows": null,
            "right": null,
            "justify_content": null,
            "_view_module": "@jupyter-widgets/base",
            "overflow": null,
            "_model_module_version": "1.2.0",
            "_view_count": null,
            "flex_flow": null,
            "width": null,
            "min_width": null,
            "border": null,
            "align_items": null,
            "bottom": null,
            "_model_module": "@jupyter-widgets/base",
            "top": null,
            "grid_column": null,
            "overflow_y": null,
            "overflow_x": null,
            "grid_auto_flow": null,
            "grid_area": null,
            "grid_template_columns": null,
            "flex": null,
            "_model_name": "LayoutModel",
            "justify_items": null,
            "grid_row": null,
            "max_height": null,
            "align_content": null,
            "visibility": null,
            "align_self": null,
            "height": null,
            "min_height": null,
            "padding": null,
            "grid_auto_rows": null,
            "grid_gap": null,
            "max_width": null,
            "order": null,
            "_view_module_version": "1.2.0",
            "grid_template_areas": null,
            "object_position": null,
            "object_fit": null,
            "grid_auto_columns": null,
            "margin": null,
            "display": null,
            "left": null
          }
        },
        "10d5b07037a746d3a619b7b23db2683e": {
          "model_module": "@jupyter-widgets/controls",
          "model_name": "FloatSliderModel",
          "state": {
            "_view_name": "FloatSliderView",
            "style": "IPY_MODEL_336555e49c6f4474ac7b4b9cf6b5c320",
            "_dom_classes": [],
            "description": "Y",
            "step": 0.01,
            "_model_name": "FloatSliderModel",
            "orientation": "horizontal",
            "max": 1,
            "_view_module": "@jupyter-widgets/controls",
            "_model_module_version": "1.5.0",
            "value": 0.4,
            "_view_count": null,
            "disabled": false,
            "_view_module_version": "1.5.0",
            "min": -1,
            "continuous_update": true,
            "readout_format": ".2f",
            "description_tooltip": null,
            "readout": true,
            "_model_module": "@jupyter-widgets/controls",
            "layout": "IPY_MODEL_ff78fc787e3f40cb99def203b7395064"
          }
        },
        "336555e49c6f4474ac7b4b9cf6b5c320": {
          "model_module": "@jupyter-widgets/controls",
          "model_name": "SliderStyleModel",
          "state": {
            "_view_name": "StyleView",
            "handle_color": null,
            "_model_name": "SliderStyleModel",
            "description_width": "",
            "_view_module": "@jupyter-widgets/base",
            "_model_module_version": "1.5.0",
            "_view_count": null,
            "_view_module_version": "1.2.0",
            "_model_module": "@jupyter-widgets/controls"
          }
        },
        "ff78fc787e3f40cb99def203b7395064": {
          "model_module": "@jupyter-widgets/base",
          "model_name": "LayoutModel",
          "state": {
            "_view_name": "LayoutView",
            "grid_template_rows": null,
            "right": null,
            "justify_content": null,
            "_view_module": "@jupyter-widgets/base",
            "overflow": null,
            "_model_module_version": "1.2.0",
            "_view_count": null,
            "flex_flow": null,
            "width": null,
            "min_width": null,
            "border": null,
            "align_items": null,
            "bottom": null,
            "_model_module": "@jupyter-widgets/base",
            "top": null,
            "grid_column": null,
            "overflow_y": null,
            "overflow_x": null,
            "grid_auto_flow": null,
            "grid_area": null,
            "grid_template_columns": null,
            "flex": null,
            "_model_name": "LayoutModel",
            "justify_items": null,
            "grid_row": null,
            "max_height": null,
            "align_content": null,
            "visibility": null,
            "align_self": null,
            "height": null,
            "min_height": null,
            "padding": null,
            "grid_auto_rows": null,
            "grid_gap": null,
            "max_width": null,
            "order": null,
            "_view_module_version": "1.2.0",
            "grid_template_areas": null,
            "object_position": null,
            "object_fit": null,
            "grid_auto_columns": null,
            "margin": null,
            "display": null,
            "left": null
          }
        },
        "4f2f957c25024d6a9e02440ffc50b7c1": {
          "model_module": "@jupyter-widgets/controls",
          "model_name": "FloatSliderModel",
          "state": {
            "_view_name": "FloatSliderView",
            "style": "IPY_MODEL_5dac8a5f6a7f44e8ac321af642b1adae",
            "_dom_classes": [],
            "description": "Z",
            "step": 0.01,
            "_model_name": "FloatSliderModel",
            "orientation": "horizontal",
            "max": 1,
            "_view_module": "@jupyter-widgets/controls",
            "_model_module_version": "1.5.0",
            "value": 0.24,
            "_view_count": null,
            "disabled": false,
            "_view_module_version": "1.5.0",
            "min": 0,
            "continuous_update": true,
            "readout_format": ".2f",
            "description_tooltip": null,
            "readout": true,
            "_model_module": "@jupyter-widgets/controls",
            "layout": "IPY_MODEL_a69c0f4bdc074ff2acbb8cce9ade2405"
          }
        },
        "5dac8a5f6a7f44e8ac321af642b1adae": {
          "model_module": "@jupyter-widgets/controls",
          "model_name": "SliderStyleModel",
          "state": {
            "_view_name": "StyleView",
            "handle_color": null,
            "_model_name": "SliderStyleModel",
            "description_width": "",
            "_view_module": "@jupyter-widgets/base",
            "_model_module_version": "1.5.0",
            "_view_count": null,
            "_view_module_version": "1.2.0",
            "_model_module": "@jupyter-widgets/controls"
          }
        },
        "a69c0f4bdc074ff2acbb8cce9ade2405": {
          "model_module": "@jupyter-widgets/base",
          "model_name": "LayoutModel",
          "state": {
            "_view_name": "LayoutView",
            "grid_template_rows": null,
            "right": null,
            "justify_content": null,
            "_view_module": "@jupyter-widgets/base",
            "overflow": null,
            "_model_module_version": "1.2.0",
            "_view_count": null,
            "flex_flow": null,
            "width": null,
            "min_width": null,
            "border": null,
            "align_items": null,
            "bottom": null,
            "_model_module": "@jupyter-widgets/base",
            "top": null,
            "grid_column": null,
            "overflow_y": null,
            "overflow_x": null,
            "grid_auto_flow": null,
            "grid_area": null,
            "grid_template_columns": null,
            "flex": null,
            "_model_name": "LayoutModel",
            "justify_items": null,
            "grid_row": null,
            "max_height": null,
            "align_content": null,
            "visibility": null,
            "align_self": null,
            "height": null,
            "min_height": null,
            "padding": null,
            "grid_auto_rows": null,
            "grid_gap": null,
            "max_width": null,
            "order": null,
            "_view_module_version": "1.2.0",
            "grid_template_areas": null,
            "object_position": null,
            "object_fit": null,
            "grid_auto_columns": null,
            "margin": null,
            "display": null,
            "left": null
          }
        },
        "ed673912616043249afc03e0f349246f": {
          "model_module": "@jupyter-widgets/controls",
          "model_name": "ToggleButtonModel",
          "state": {
            "_view_name": "ToggleButtonView",
            "style": "IPY_MODEL_dbd2eeb4921c47b7870d95a05b0fe81f",
            "_dom_classes": [],
            "description": "Toggle Gripper",
            "_model_name": "ToggleButtonModel",
            "button_style": "",
            "_view_module": "@jupyter-widgets/controls",
            "_model_module_version": "1.5.0",
            "tooltip": "",
            "_view_count": null,
            "disabled": false,
            "_view_module_version": "1.5.0",
            "value": false,
            "description_tooltip": null,
            "_model_module": "@jupyter-widgets/controls",
            "layout": "IPY_MODEL_03c17c482b134653a10b4754ed3044f5",
            "icon": ""
          }
        },
        "dbd2eeb4921c47b7870d95a05b0fe81f": {
          "model_module": "@jupyter-widgets/controls",
          "model_name": "DescriptionStyleModel",
          "state": {
            "_view_name": "StyleView",
            "_model_name": "DescriptionStyleModel",
            "description_width": "",
            "_view_module": "@jupyter-widgets/base",
            "_model_module_version": "1.5.0",
            "_view_count": null,
            "_view_module_version": "1.2.0",
            "_model_module": "@jupyter-widgets/controls"
          }
        },
        "03c17c482b134653a10b4754ed3044f5": {
          "model_module": "@jupyter-widgets/base",
          "model_name": "LayoutModel",
          "state": {
            "_view_name": "LayoutView",
            "grid_template_rows": null,
            "right": null,
            "justify_content": null,
            "_view_module": "@jupyter-widgets/base",
            "overflow": null,
            "_model_module_version": "1.2.0",
            "_view_count": null,
            "flex_flow": null,
            "width": null,
            "min_width": null,
            "border": null,
            "align_items": null,
            "bottom": null,
            "_model_module": "@jupyter-widgets/base",
            "top": null,
            "grid_column": null,
            "overflow_y": null,
            "overflow_x": null,
            "grid_auto_flow": null,
            "grid_area": null,
            "grid_template_columns": null,
            "flex": null,
            "_model_name": "LayoutModel",
            "justify_items": null,
            "grid_row": null,
            "max_height": null,
            "align_content": null,
            "visibility": null,
            "align_self": null,
            "height": null,
            "min_height": null,
            "padding": null,
            "grid_auto_rows": null,
            "grid_gap": null,
            "max_width": null,
            "order": null,
            "_view_module_version": "1.2.0",
            "grid_template_areas": null,
            "object_position": null,
            "object_fit": null,
            "grid_auto_columns": null,
            "margin": null,
            "display": null,
            "left": null
          }
        },
        "d3d38874aaac4c0583d2e80002548f81": {
          "model_module": "@jupyter-widgets/controls",
          "model_name": "ToggleButtonModel",
          "state": {
            "_view_name": "ToggleButtonView",
            "style": "IPY_MODEL_325dad5c53a641318895b0bb4c9f60e9",
            "_dom_classes": [],
            "description": "Stop Simulation",
            "_model_name": "ToggleButtonModel",
            "button_style": "",
            "_view_module": "@jupyter-widgets/controls",
            "_model_module_version": "1.5.0",
            "tooltip": "",
            "_view_count": null,
            "disabled": false,
            "_view_module_version": "1.5.0",
            "value": false,
            "description_tooltip": null,
            "_model_module": "@jupyter-widgets/controls",
            "layout": "IPY_MODEL_75c0d07708774530bd4c534363a43695",
            "icon": ""
          }
        },
        "325dad5c53a641318895b0bb4c9f60e9": {
          "model_module": "@jupyter-widgets/controls",
          "model_name": "DescriptionStyleModel",
          "state": {
            "_view_name": "StyleView",
            "_model_name": "DescriptionStyleModel",
            "description_width": "",
            "_view_module": "@jupyter-widgets/base",
            "_model_module_version": "1.5.0",
            "_view_count": null,
            "_view_module_version": "1.2.0",
            "_model_module": "@jupyter-widgets/controls"
          }
        },
        "75c0d07708774530bd4c534363a43695": {
          "model_module": "@jupyter-widgets/base",
          "model_name": "LayoutModel",
          "state": {
            "_view_name": "LayoutView",
            "grid_template_rows": null,
            "right": null,
            "justify_content": null,
            "_view_module": "@jupyter-widgets/base",
            "overflow": null,
            "_model_module_version": "1.2.0",
            "_view_count": null,
            "flex_flow": null,
            "width": null,
            "min_width": null,
            "border": null,
            "align_items": null,
            "bottom": null,
            "_model_module": "@jupyter-widgets/base",
            "top": null,
            "grid_column": null,
            "overflow_y": null,
            "overflow_x": null,
            "grid_auto_flow": null,
            "grid_area": null,
            "grid_template_columns": null,
            "flex": null,
            "_model_name": "LayoutModel",
            "justify_items": null,
            "grid_row": null,
            "max_height": null,
            "align_content": null,
            "visibility": null,
            "align_self": null,
            "height": null,
            "min_height": null,
            "padding": null,
            "grid_auto_rows": null,
            "grid_gap": null,
            "max_width": null,
            "order": null,
            "_view_module_version": "1.2.0",
            "grid_template_areas": null,
            "object_position": null,
            "object_fit": null,
            "grid_auto_columns": null,
            "margin": null,
            "display": null,
            "left": null
          }
        }
      }
    }
  },
  "cells": [
    {
      "cell_type": "markdown",
      "metadata": {
        "id": "5fCEDCU_qrC0"
      },
      "source": [
        "**Run this cell first to provision a cloud machine and set up Drake.**\n",
        "\n",
        "This may take a minute or two the first time, but once a machine is set up it should be good for about 12 hours.\n",
        "\n",
        "If you're new to Google Colab, you may be interested in [this introduction](https://colab.research.google.com/notebooks/basic_features_overview.ipynb)."
      ]
    },
    {
      "cell_type": "code",
      "metadata": {
        "colab": {
          "base_uri": "https://localhost:8080/"
        },
        "id": "mxmkdKfSVjCK",
        "cellView": "form",
        "outputId": "031d087e-7a12-478c-a1e1-f52ba6b9ca7e"
      },
      "source": [
        "#@title Run Initialization\n",
        "import importlib\n",
        "import sys\n",
        "import os\n",
        "from urllib.request import urlretrieve\n",
        "import subprocess\n",
        "import shutil\n",
        "\n",
        "assert 'google.colab' in sys.modules, \"This notebook is meant to be run in google colab!\"\n",
        "\n",
        "drake_url = \"https://drake-packages.csail.mit.edu/tmp/drake-0.27.0-pip-bionic.tar.gz\"\n",
        "if importlib.util.find_spec('pydrake') is None:\n",
        "    # We're in colab and don't have pydrake, so install it on the cloud machine.\n",
        "    if os.path.isdir('/opt/drake'):\n",
        "        shutil.rmtree('/opt/drake')\n",
        "    print(\"Installing Drake\")\n",
        "    urlretrieve(drake_url, 'drake.tar.gz')\n",
        "    subprocess.run(['mkdir', '/opt/drake'])\n",
        "    subprocess.run(['tar', '-xzf', 'drake.tar.gz', '-C', '/opt/drake'], check=True)\n",
        "    \n",
        "    print(\"Installing other dependencies\")\n",
        "    subprocess.run([\"pip3\", \"install\", \"meshcat\"])\n",
        "    subprocess.run(['apt-get', 'update', '-o', 'APT::Acquire::Retries=4', '-qq'], check=True)\n",
        "    with open(\"/opt/drake/share/drake/setup/packages-bionic.txt\", \"r\") as f:\n",
        "        packages = f.read().splitlines()\n",
        "    subprocess.run(['apt-get', 'install', '-o',\n",
        "                    'APT::Acquire::Retries=4', '-o', 'Dpkg::Use-Pty=0',\n",
        "                    '-qy', '--no-install-recommends'] + packages,\n",
        "                    check=True)\n",
        "    \n",
        "    v = sys.version_info\n",
        "    path = f\"/opt/drake/lib/python{v.major}.{v.minor}/site-packages\"\n",
        "    if importlib.util.find_spec('pydrake') is None:\n",
        "        sys.path.append(path)\n",
        "\n",
        "# Start a meshcat server\n",
        "print(\"Starting Meshcat\")\n",
        "from meshcat.servers.zmqserver import start_zmq_server_as_subprocess\n",
        "proc, zmq_url, web_url = start_zmq_server_as_subprocess(server_args=['--ngrok_http_tunnel'])\n",
        "\n",
        "# Clone our github repo\n",
        "install_path = '/opt/passivity_cbf_demo'\n",
        "if not os.path.isdir(install_path):\n",
        "    print(\"Cloning github repo\")\n",
        "    subprocess.run(['git','clone','https://github.com/vincekurtz/passivity_cbf_demo.git',install_path])\n",
        "sys.path.append(install_path)\n",
        "\n",
        "print(\"Done!\")\n"
      ],
      "execution_count": null,
      "outputs": [
        {
          "output_type": "stream",
          "text": [
            "Installing Drake\n",
            "Installing other dependencies\n",
            "Starting Meshcat\n",
            "Cloning github repo\n",
            "Done!\n"
          ],
          "name": "stdout"
        }
      ]
    },
    {
      "cell_type": "markdown",
      "metadata": {
        "id": "wpfbm5lii47r"
      },
      "source": [
        "Run the following cell to choose which control method to use and what type of constraints to apply, if any:\n"
      ]
    },
    {
      "cell_type": "code",
      "metadata": {
        "colab": {
          "base_uri": "https://localhost:8080/",
          "height": 207,
          "referenced_widgets": [
            "82d6eddb13b14914b6e6a20113ce9c85",
            "47869877ee8d4677b1d7ea19fbc2f706",
            "44e02df752d149e1a30ccab045907097",
            "07cdd9ce209e43cda10dcadd2c9b0371",
            "5a5d76012355456aaf173b2bb6afa65b",
            "b7b4b219461b4ca396832e7bec30f5c4"
          ]
        },
        "id": "Beg1rlROep0u",
        "cellView": "form",
        "outputId": "23ca6750-d287-4a1d-dbbe-45798163678c"
      },
      "source": [
        "#@title Set Simulation Parameters\n",
        "import ipywidgets as widgets\n",
        "\n",
        "ctrl_radio = widgets.RadioButtons(\n",
        "    description=\"Control Method:\",\n",
        "    style={'description_width':'initial'},\n",
        "    options=[\"Unconstrained\",\"Standard\",\"Passivity Guaranteed\"],\n",
        "    value=\"Passivity Guaranteed\")\n",
        "cons_radio = widgets.RadioButtons(\n",
        "    description=\"Constraint Type:\",\n",
        "    style={'description_width':'initial'},\n",
        "    options=[\"Singularity Avoidance\", \"Joint Limits\", \"None\"],\n",
        "    value=\"Singularity Avoidance\")\n",
        "\n",
        "display(ctrl_radio)\n",
        "display(cons_radio)"
      ],
      "execution_count": null,
      "outputs": [
        {
          "output_type": "display_data",
          "data": {
            "application/vnd.jupyter.widget-view+json": {
              "model_id": "82d6eddb13b14914b6e6a20113ce9c85",
              "version_minor": 0,
              "version_major": 2
            },
            "text/plain": [
              "RadioButtons(description='Control Method:', index=2, options=('Unconstrained', 'Standard', 'Passivity Guarante…"
            ]
          },
          "metadata": {
            "tags": []
          }
        },
        {
          "output_type": "display_data",
          "data": {
            "application/vnd.jupyter.widget-view+json": {
              "model_id": "07cdd9ce209e43cda10dcadd2c9b0371",
              "version_minor": 0,
              "version_major": 2
            },
            "text/plain": [
              "RadioButtons(description='Constraint Type:', options=('Singularity Avoidance', 'Joint Limits', 'None'), style=…"
            ]
          },
          "metadata": {
            "tags": []
          }
        }
      ]
    },
    {
      "cell_type": "markdown",
      "metadata": {
        "id": "kz18Q5h67n3R"
      },
      "source": [
        "**Control Method Options:**\n",
        "\n",
        "The *Unconstrained* method is a task-space passivity based controller which selects joint torques such that\n",
        "\n",
        "\\begin{align}\n",
        "    \\bar{J}^T \\tau = f^{des} = \\Lambda \\ddot{x}_{r} + \\bar{J}^T\\tau_g + \\Lambda Q (\\dot{q} - \\bar{J} \\dot{\\tilde{x}}) - K_P\\tilde{x} - K_D\\dot{\\tilde{x}}.\n",
        "\\end{align}\n",
        "\n",
        "This method guarantees passivity but not constraint satisfaction, and performs poorly in near-singular configurations.\n",
        "\n",
        "The *Standard* method is a fairly common approach to constrained passivity-based control. It attempts to match the controller above, subject to constraints, by solving a convex quadratic program:\n",
        "\n",
        "\\begin{align}\n",
        "    \\min_{\\tau,\\ddot{q}} ~& \\|\\bar{J}^T\\tau - f^{des}\\|^2 \\\\\n",
        "    \\text{s.t. } & M(q)\\ddot{q} + C(q,\\dot{q})\\dot{q} + \\tau_g(q) = \\tau \\\\\n",
        "    & \\text{Other Constraints}\n",
        "\\end{align}\n",
        "\n",
        "where the first constraint is the robot dynamics. \"Other Constraints\" can include singularity avoidance or joint limit constraints, as outlined below. This method guarantees constraint satisfaction, but passivity guarantees are lost when the optimal cost is nonzero. \n",
        "\n",
        "Finally, the *Passivity Guaranteed* method is our proposed approach, which guarantees both passivity and constraint satisfaction by modifying the reference acceleration $\\ddot{x}_r$ when necessary. This method also solves a convex QP,\n",
        "\n",
        "\\begin{align}\n",
        "    \\min_{\\tau,\\ddot{q},\\ddot{x}_r} ~& w_1\\|\\ddot{x}_r - \\ddot{x}_r^{nom}\\|^2 + w_2\\|\\bar{J}^T\\tau - f^{des}\\|^2 \\\\\n",
        "    \\text{s.t. } & M(q)\\ddot{q} + C(q,\\dot{q})\\dot{q} + \\tau_g(q) = \\tau \\\\\n",
        "    & \\dot{V}(\\ddot{q},\\ddot{x}_r) \\leq 0 \\\\\n",
        "    & \\text{Other Constraints}\n",
        "\\end{align}\n",
        "\n",
        "which is guaranteed to always be feasible. \n",
        "\n",
        "**Constraint Options**\n",
        "\n",
        "The *Joint Limits* option enforces joint angle and velocity limits using the Control Barrier Function (CBF) formulation presented in [this paper](https://people.kth.se/~dimos/pdfs/ACC20_Wences.pdf).\n",
        "\n",
        "The *Signularity Avoidance* option uses a new CBF which ensures that the [manipulability index](https://journals.sagepub.com/doi/10.1177/027836498500400201) is always above a given threshold. This allows us to avoid singular and near-singular configurations that would otherwise lead to poor performance for any of the control methods outlined above. \n",
        "\n"
      ]
    },
    {
      "cell_type": "markdown",
      "metadata": {
        "id": "OdcQGn8Pn2Fw"
      },
      "source": [
        "Run the following cell to initialize the simulation with the options specified above."
      ]
    },
    {
      "cell_type": "code",
      "metadata": {
        "colab": {
          "base_uri": "https://localhost:8080/"
        },
        "id": "eT7zQ06M9YYD",
        "cellView": "form",
        "outputId": "01831796-c167-4c70-ed2e-99f943ef080e"
      },
      "source": [
        "#@title Initialize Simulation\n",
        "from colab_utils import *\n",
        "\n",
        "simulator, gui = setup_colab_simulation(ctrl_radio.value, cons_radio.value, \n",
        "                                   install_path, zmq_url, include_manipuland=True)\n"
      ],
      "execution_count": null,
      "outputs": [
        {
          "output_type": "stream",
          "text": [
            "setting up display\n",
            "Connecting to meshcat-server at zmq_url=tcp://127.0.0.1:6000...\n",
            "You can open the visualizer by visiting the following URL:\n",
            "http://f73656b25175.ngrok.io/static/\n",
            "Connected to meshcat-server.\n",
            "Ready to Simulate!\n"
          ],
          "name": "stdout"
        }
      ]
    },
    {
      "cell_type": "markdown",
      "metadata": {
        "id": "ElvcTcI6nnBE"
      },
      "source": [
        "You can open the URL above to see the simulation in a different window, or run the block below to embed the visualizer in this page.\n",
        "\n",
        "Key elements of the simulation are shown in the table below:\n",
        "\n",
        "| ![robot](https://github.com/vincekurtz/passivity_cbf_demo/blob/master/robot.png?raw=1) | ![reference](https://github.com/vincekurtz/passivity_cbf_demo/blob/master/end_effector_reference.png?raw=1) | ![target](https://github.com/vincekurtz/passivity_cbf_demo/blob/master/end_effector_target.png?raw=1) |\n",
        "|:-------------------:|:----------------------------------------:|:------------------------:|\n",
        "| Robot (Kinova Gen3 7-DoF)  |  Reference end-effector pose ($x_r$)       | Target end-effector pose ($x_r^{des}$)\n",
        "\n",
        "\n"
      ]
    },
    {
      "cell_type": "code",
      "metadata": {
        "colab": {
          "base_uri": "https://localhost:8080/",
          "height": 425
        },
        "id": "RjmUt_D8COb8",
        "cellView": "form",
        "outputId": "f3aaf7c4-253c-483a-f959-2241f925d65a"
      },
      "source": [
        "#@title Show Visualizer\n",
        "import IPython\n",
        "width=800\n",
        "height=400\n",
        "if web_url[:5] != 'https':\n",
        "    web_url = 'https' + web_url[4:]\n",
        "iframe = '<iframe src=' + web_url + ' width=' + str(width) + ' height=' + str(height) + '></iframe>'\n",
        "IPython.display.HTML(iframe)"
      ],
      "execution_count": null,
      "outputs": [
        {
          "output_type": "execute_result",
          "data": {
            "text/html": [
              "<iframe src=https://f73656b25175.ngrok.io/static/ width=800 height=400></iframe>"
            ],
            "text/plain": [
              "<IPython.core.display.HTML object>"
            ]
          },
          "metadata": {
            "tags": []
          },
          "execution_count": 4
        }
      ]
    },
    {
      "cell_type": "markdown",
      "metadata": {
        "id": "Z7NbLR6bj7FD"
      },
      "source": [
        "Run the following cell to start the simulation, and use the sliders to change the target end-effector pose. "
      ]
    },
    {
      "cell_type": "code",
      "metadata": {
        "colab": {
          "base_uri": "https://localhost:8080/",
          "height": 263,
          "referenced_widgets": [
            "76f1b54a9a2f4364b5f8bc09b4dfde92",
            "987f4b8662e74e6d802812ff2b85e58d",
            "8d3c101d8a9d4f519b0e20012db6063b",
            "6453863cbf374ec8b0dc26681eda3ca4",
            "5fdc24ee21cc42f4939a084a89c7b7c8",
            "aca7e73917844e178c7ae7f2f8cf2046",
            "2759b69967564724a040c5050f7cc716",
            "0336c113e1d64aff83968474a50e1287",
            "619731e3bfce4fe790c97b6a95d062e9",
            "6d5c3f926a7140e8aadf02f1f76b595b",
            "0104ef1ad97c48aa8b27404c612262d0",
            "2ed83ccaa955405d8308890186f30313",
            "10d5b07037a746d3a619b7b23db2683e",
            "336555e49c6f4474ac7b4b9cf6b5c320",
            "ff78fc787e3f40cb99def203b7395064",
            "4f2f957c25024d6a9e02440ffc50b7c1",
            "5dac8a5f6a7f44e8ac321af642b1adae",
            "a69c0f4bdc074ff2acbb8cce9ade2405",
            "ed673912616043249afc03e0f349246f",
            "dbd2eeb4921c47b7870d95a05b0fe81f",
            "03c17c482b134653a10b4754ed3044f5",
            "d3d38874aaac4c0583d2e80002548f81",
            "325dad5c53a641318895b0bb4c9f60e9",
            "75c0d07708774530bd4c534363a43695"
          ]
        },
        "id": "2Abtt6yMAlxA",
        "cellView": "form",
        "outputId": "7727a560-3f55-4b69-fb7d-49cc086a4b34"
      },
      "source": [
        "#@title Start Simulating!\n",
        "import threading\n",
        "\n",
        "# Show sliders for controlling the target end-effector pose\n",
        "display_gui(gui)\n",
        "stop_button = widgets.ToggleButton(value=False, description='Stop Simulation')\n",
        "display(stop_button)\n",
        "\n",
        "# Run the simulation in a separate thread so we can stop it with a button press\n",
        "def run_sim():\n",
        "    while not stop_button.value:\n",
        "        simulator.AdvanceTo(simulator.get_context().get_time() + 1.0)\n",
        "thread = threading.Thread(target=run_sim)\n",
        "thread.start()\n"
      ],
      "execution_count": null,
      "outputs": [
        {
          "output_type": "display_data",
          "data": {
            "application/vnd.jupyter.widget-view+json": {
              "model_id": "76f1b54a9a2f4364b5f8bc09b4dfde92",
              "version_minor": 0,
              "version_major": 2
            },
            "text/plain": [
              "FloatSlider(value=3.141592653589793, description='Roll', max=6.283185307179586, step=0.01)"
            ]
          },
          "metadata": {
            "tags": []
          }
        },
        {
          "output_type": "display_data",
          "data": {
            "application/vnd.jupyter.widget-view+json": {
              "model_id": "6453863cbf374ec8b0dc26681eda3ca4",
              "version_minor": 0,
              "version_major": 2
            },
            "text/plain": [
              "FloatSlider(value=0.0, description='Pitch', max=1.2707963267948965, min=-1.2707963267948965, step=0.01)"
            ]
          },
          "metadata": {
            "tags": []
          }
        },
        {
          "output_type": "display_data",
          "data": {
            "application/vnd.jupyter.widget-view+json": {
              "model_id": "2759b69967564724a040c5050f7cc716",
              "version_minor": 0,
              "version_major": 2
            },
            "text/plain": [
              "FloatSlider(value=1.5707963267948966, description='Yaw', max=6.283185307179586, step=0.01)"
            ]
          },
          "metadata": {
            "tags": []
          }
        },
        {
          "output_type": "display_data",
          "data": {
            "application/vnd.jupyter.widget-view+json": {
              "model_id": "6d5c3f926a7140e8aadf02f1f76b595b",
              "version_minor": 0,
              "version_major": 2
            },
            "text/plain": [
              "FloatSlider(value=0.2, description='X', max=1.0, min=-1.0, step=0.01)"
            ]
          },
          "metadata": {
            "tags": []
          }
        },
        {
          "output_type": "display_data",
          "data": {
            "application/vnd.jupyter.widget-view+json": {
              "model_id": "10d5b07037a746d3a619b7b23db2683e",
              "version_minor": 0,
              "version_major": 2
            },
            "text/plain": [
              "FloatSlider(value=0.4, description='Y', max=1.0, min=-1.0, step=0.01)"
            ]
          },
          "metadata": {
            "tags": []
          }
        },
        {
          "output_type": "display_data",
          "data": {
            "application/vnd.jupyter.widget-view+json": {
              "model_id": "4f2f957c25024d6a9e02440ffc50b7c1",
              "version_minor": 0,
              "version_major": 2
            },
            "text/plain": [
              "FloatSlider(value=0.4, description='Z', max=1.0, step=0.01)"
            ]
          },
          "metadata": {
            "tags": []
          }
        },
        {
          "output_type": "display_data",
          "data": {
            "application/vnd.jupyter.widget-view+json": {
              "model_id": "ed673912616043249afc03e0f349246f",
              "version_minor": 0,
              "version_major": 2
            },
            "text/plain": [
              "ToggleButton(value=False, description='Toggle Gripper')"
            ]
          },
          "metadata": {
            "tags": []
          }
        },
        {
          "output_type": "display_data",
          "data": {
            "application/vnd.jupyter.widget-view+json": {
              "model_id": "d3d38874aaac4c0583d2e80002548f81",
              "version_minor": 0,
              "version_major": 2
            },
            "text/plain": [
              "ToggleButton(value=False, description='Stop Simulation')"
            ]
          },
          "metadata": {
            "tags": []
          }
        }
      ]
    }
  ]
}