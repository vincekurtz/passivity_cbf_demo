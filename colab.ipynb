{
  "nbformat": 4,
  "nbformat_minor": 0,
  "metadata": {
    "colab": {
      "name": "Constrained Passivity-Based Control",
      "provenance": [],
      "collapsed_sections": [],
      "toc_visible": true
    },
    "kernelspec": {
      "display_name": "Python 3",
      "language": "python",
      "name": "python3"
    },
    "language_info": {
      "codemirror_mode": {
        "name": "ipython",
        "version": 3
      },
      "file_extension": ".py",
      "mimetype": "text/x-python",
      "name": "python",
      "nbconvert_exporter": "python",
      "pygments_lexer": "ipython3",
      "version": "3.8.5"
    },
    "widgets": {
      "application/vnd.jupyter.widget-state+json": {
        "294e4ae6dc0544b184ce9a8eacf5c261": {
          "model_module": "@jupyter-widgets/controls",
          "model_name": "FloatSliderModel",
          "state": {
            "_view_name": "FloatSliderView",
            "style": "IPY_MODEL_e8ae3f7cdeaf429b8987b6666bd274ee",
            "_dom_classes": [],
            "description": "Roll",
            "step": 0.01,
            "_model_name": "FloatSliderModel",
            "orientation": "horizontal",
            "max": 6.283185307179586,
            "_view_module": "@jupyter-widgets/controls",
            "_model_module_version": "1.5.0",
            "value": 3.141592653589793,
            "_view_count": null,
            "disabled": false,
            "_view_module_version": "1.5.0",
            "min": 0,
            "continuous_update": true,
            "readout_format": ".2f",
            "description_tooltip": null,
            "readout": true,
            "_model_module": "@jupyter-widgets/controls",
            "layout": "IPY_MODEL_34311e41dda0476b9687b37b75083cc9"
          },
          "model_module_version": "1.5.0"
        },
        "e8ae3f7cdeaf429b8987b6666bd274ee": {
          "model_module": "@jupyter-widgets/controls",
          "model_name": "SliderStyleModel",
          "state": {
            "_view_name": "StyleView",
            "handle_color": null,
            "_model_name": "SliderStyleModel",
            "description_width": "",
            "_view_module": "@jupyter-widgets/base",
            "_model_module_version": "1.5.0",
            "_view_count": null,
            "_view_module_version": "1.2.0",
            "_model_module": "@jupyter-widgets/controls"
          },
          "model_module_version": "1.5.0"
        },
        "34311e41dda0476b9687b37b75083cc9": {
          "model_module": "@jupyter-widgets/base",
          "model_name": "LayoutModel",
          "state": {
            "_view_name": "LayoutView",
            "grid_template_rows": null,
            "right": null,
            "justify_content": null,
            "_view_module": "@jupyter-widgets/base",
            "overflow": null,
            "_model_module_version": "1.2.0",
            "_view_count": null,
            "flex_flow": null,
            "width": null,
            "min_width": null,
            "border": null,
            "align_items": null,
            "bottom": null,
            "_model_module": "@jupyter-widgets/base",
            "top": null,
            "grid_column": null,
            "overflow_y": null,
            "overflow_x": null,
            "grid_auto_flow": null,
            "grid_area": null,
            "grid_template_columns": null,
            "flex": null,
            "_model_name": "LayoutModel",
            "justify_items": null,
            "grid_row": null,
            "max_height": null,
            "align_content": null,
            "visibility": null,
            "align_self": null,
            "height": null,
            "min_height": null,
            "padding": null,
            "grid_auto_rows": null,
            "grid_gap": null,
            "max_width": null,
            "order": null,
            "_view_module_version": "1.2.0",
            "grid_template_areas": null,
            "object_position": null,
            "object_fit": null,
            "grid_auto_columns": null,
            "margin": null,
            "display": null,
            "left": null
          },
          "model_module_version": "1.2.0"
        },
        "c6a58d33b2234e4e9cb9389e7a6b3928": {
          "model_module": "@jupyter-widgets/controls",
          "model_name": "FloatSliderModel",
          "state": {
            "_view_name": "FloatSliderView",
            "style": "IPY_MODEL_34daa93478a648fb8c29cef6d694c940",
            "_dom_classes": [],
            "description": "Pitch",
            "step": 0.01,
            "_model_name": "FloatSliderModel",
            "orientation": "horizontal",
            "max": 1.2707963267948965,
            "_view_module": "@jupyter-widgets/controls",
            "_model_module_version": "1.5.0",
            "value": 0,
            "_view_count": null,
            "disabled": false,
            "_view_module_version": "1.5.0",
            "min": -1.2707963267948965,
            "continuous_update": true,
            "readout_format": ".2f",
            "description_tooltip": null,
            "readout": true,
            "_model_module": "@jupyter-widgets/controls",
            "layout": "IPY_MODEL_93babbb7ab2c43afaad394ea55686c3f"
          },
          "model_module_version": "1.5.0"
        },
        "34daa93478a648fb8c29cef6d694c940": {
          "model_module": "@jupyter-widgets/controls",
          "model_name": "SliderStyleModel",
          "state": {
            "_view_name": "StyleView",
            "handle_color": null,
            "_model_name": "SliderStyleModel",
            "description_width": "",
            "_view_module": "@jupyter-widgets/base",
            "_model_module_version": "1.5.0",
            "_view_count": null,
            "_view_module_version": "1.2.0",
            "_model_module": "@jupyter-widgets/controls"
          },
          "model_module_version": "1.5.0"
        },
        "93babbb7ab2c43afaad394ea55686c3f": {
          "model_module": "@jupyter-widgets/base",
          "model_name": "LayoutModel",
          "state": {
            "_view_name": "LayoutView",
            "grid_template_rows": null,
            "right": null,
            "justify_content": null,
            "_view_module": "@jupyter-widgets/base",
            "overflow": null,
            "_model_module_version": "1.2.0",
            "_view_count": null,
            "flex_flow": null,
            "width": null,
            "min_width": null,
            "border": null,
            "align_items": null,
            "bottom": null,
            "_model_module": "@jupyter-widgets/base",
            "top": null,
            "grid_column": null,
            "overflow_y": null,
            "overflow_x": null,
            "grid_auto_flow": null,
            "grid_area": null,
            "grid_template_columns": null,
            "flex": null,
            "_model_name": "LayoutModel",
            "justify_items": null,
            "grid_row": null,
            "max_height": null,
            "align_content": null,
            "visibility": null,
            "align_self": null,
            "height": null,
            "min_height": null,
            "padding": null,
            "grid_auto_rows": null,
            "grid_gap": null,
            "max_width": null,
            "order": null,
            "_view_module_version": "1.2.0",
            "grid_template_areas": null,
            "object_position": null,
            "object_fit": null,
            "grid_auto_columns": null,
            "margin": null,
            "display": null,
            "left": null
          },
          "model_module_version": "1.2.0"
        },
        "dc41e79d2df34ba9beefc1ccc0539fc1": {
          "model_module": "@jupyter-widgets/controls",
          "model_name": "FloatSliderModel",
          "state": {
            "_view_name": "FloatSliderView",
            "style": "IPY_MODEL_59da5604a0ac45e7b24c907bc7a3d99c",
            "_dom_classes": [],
            "description": "Yaw",
            "step": 0.01,
            "_model_name": "FloatSliderModel",
            "orientation": "horizontal",
            "max": 6.283185307179586,
            "_view_module": "@jupyter-widgets/controls",
            "_model_module_version": "1.5.0",
            "value": 1.5707963267948966,
            "_view_count": null,
            "disabled": false,
            "_view_module_version": "1.5.0",
            "min": 0,
            "continuous_update": true,
            "readout_format": ".2f",
            "description_tooltip": null,
            "readout": true,
            "_model_module": "@jupyter-widgets/controls",
            "layout": "IPY_MODEL_ca25d467591748bb8d28b7b993a6ba20"
          },
          "model_module_version": "1.5.0"
        },
        "59da5604a0ac45e7b24c907bc7a3d99c": {
          "model_module": "@jupyter-widgets/controls",
          "model_name": "SliderStyleModel",
          "state": {
            "_view_name": "StyleView",
            "handle_color": null,
            "_model_name": "SliderStyleModel",
            "description_width": "",
            "_view_module": "@jupyter-widgets/base",
            "_model_module_version": "1.5.0",
            "_view_count": null,
            "_view_module_version": "1.2.0",
            "_model_module": "@jupyter-widgets/controls"
          },
          "model_module_version": "1.5.0"
        },
        "ca25d467591748bb8d28b7b993a6ba20": {
          "model_module": "@jupyter-widgets/base",
          "model_name": "LayoutModel",
          "state": {
            "_view_name": "LayoutView",
            "grid_template_rows": null,
            "right": null,
            "justify_content": null,
            "_view_module": "@jupyter-widgets/base",
            "overflow": null,
            "_model_module_version": "1.2.0",
            "_view_count": null,
            "flex_flow": null,
            "width": null,
            "min_width": null,
            "border": null,
            "align_items": null,
            "bottom": null,
            "_model_module": "@jupyter-widgets/base",
            "top": null,
            "grid_column": null,
            "overflow_y": null,
            "overflow_x": null,
            "grid_auto_flow": null,
            "grid_area": null,
            "grid_template_columns": null,
            "flex": null,
            "_model_name": "LayoutModel",
            "justify_items": null,
            "grid_row": null,
            "max_height": null,
            "align_content": null,
            "visibility": null,
            "align_self": null,
            "height": null,
            "min_height": null,
            "padding": null,
            "grid_auto_rows": null,
            "grid_gap": null,
            "max_width": null,
            "order": null,
            "_view_module_version": "1.2.0",
            "grid_template_areas": null,
            "object_position": null,
            "object_fit": null,
            "grid_auto_columns": null,
            "margin": null,
            "display": null,
            "left": null
          },
          "model_module_version": "1.2.0"
        },
        "f9fc2e0ee7e04e4c9c61debae3bc8792": {
          "model_module": "@jupyter-widgets/controls",
          "model_name": "FloatSliderModel",
          "state": {
            "_view_name": "FloatSliderView",
            "style": "IPY_MODEL_ffd5acd981164760bd47e8e8019e2657",
            "_dom_classes": [],
            "description": "X",
            "step": 0.01,
            "_model_name": "FloatSliderModel",
            "orientation": "horizontal",
            "max": 1,
            "_view_module": "@jupyter-widgets/controls",
            "_model_module_version": "1.5.0",
            "value": 0.2,
            "_view_count": null,
            "disabled": false,
            "_view_module_version": "1.5.0",
            "min": -1,
            "continuous_update": true,
            "readout_format": ".2f",
            "description_tooltip": null,
            "readout": true,
            "_model_module": "@jupyter-widgets/controls",
            "layout": "IPY_MODEL_c4a8c9e7eea04add96df4b89eacf0292"
          },
          "model_module_version": "1.5.0"
        },
        "ffd5acd981164760bd47e8e8019e2657": {
          "model_module": "@jupyter-widgets/controls",
          "model_name": "SliderStyleModel",
          "state": {
            "_view_name": "StyleView",
            "handle_color": null,
            "_model_name": "SliderStyleModel",
            "description_width": "",
            "_view_module": "@jupyter-widgets/base",
            "_model_module_version": "1.5.0",
            "_view_count": null,
            "_view_module_version": "1.2.0",
            "_model_module": "@jupyter-widgets/controls"
          },
          "model_module_version": "1.5.0"
        },
        "c4a8c9e7eea04add96df4b89eacf0292": {
          "model_module": "@jupyter-widgets/base",
          "model_name": "LayoutModel",
          "state": {
            "_view_name": "LayoutView",
            "grid_template_rows": null,
            "right": null,
            "justify_content": null,
            "_view_module": "@jupyter-widgets/base",
            "overflow": null,
            "_model_module_version": "1.2.0",
            "_view_count": null,
            "flex_flow": null,
            "width": null,
            "min_width": null,
            "border": null,
            "align_items": null,
            "bottom": null,
            "_model_module": "@jupyter-widgets/base",
            "top": null,
            "grid_column": null,
            "overflow_y": null,
            "overflow_x": null,
            "grid_auto_flow": null,
            "grid_area": null,
            "grid_template_columns": null,
            "flex": null,
            "_model_name": "LayoutModel",
            "justify_items": null,
            "grid_row": null,
            "max_height": null,
            "align_content": null,
            "visibility": null,
            "align_self": null,
            "height": null,
            "min_height": null,
            "padding": null,
            "grid_auto_rows": null,
            "grid_gap": null,
            "max_width": null,
            "order": null,
            "_view_module_version": "1.2.0",
            "grid_template_areas": null,
            "object_position": null,
            "object_fit": null,
            "grid_auto_columns": null,
            "margin": null,
            "display": null,
            "left": null
          },
          "model_module_version": "1.2.0"
        },
        "f28d5921f0ed480ebf13ee355e7fe364": {
          "model_module": "@jupyter-widgets/controls",
          "model_name": "FloatSliderModel",
          "state": {
            "_view_name": "FloatSliderView",
            "style": "IPY_MODEL_e2d1e50f650340e39c1e2225010a6306",
            "_dom_classes": [],
            "description": "Y",
            "step": 0.01,
            "_model_name": "FloatSliderModel",
            "orientation": "horizontal",
            "max": 1,
            "_view_module": "@jupyter-widgets/controls",
            "_model_module_version": "1.5.0",
            "value": 1,
            "_view_count": null,
            "disabled": false,
            "_view_module_version": "1.5.0",
            "min": -1,
            "continuous_update": true,
            "readout_format": ".2f",
            "description_tooltip": null,
            "readout": true,
            "_model_module": "@jupyter-widgets/controls",
            "layout": "IPY_MODEL_e758057dce8e4d3693266c6a4ebff076"
          },
          "model_module_version": "1.5.0"
        },
        "e2d1e50f650340e39c1e2225010a6306": {
          "model_module": "@jupyter-widgets/controls",
          "model_name": "SliderStyleModel",
          "state": {
            "_view_name": "StyleView",
            "handle_color": null,
            "_model_name": "SliderStyleModel",
            "description_width": "",
            "_view_module": "@jupyter-widgets/base",
            "_model_module_version": "1.5.0",
            "_view_count": null,
            "_view_module_version": "1.2.0",
            "_model_module": "@jupyter-widgets/controls"
          },
          "model_module_version": "1.5.0"
        },
        "e758057dce8e4d3693266c6a4ebff076": {
          "model_module": "@jupyter-widgets/base",
          "model_name": "LayoutModel",
          "state": {
            "_view_name": "LayoutView",
            "grid_template_rows": null,
            "right": null,
            "justify_content": null,
            "_view_module": "@jupyter-widgets/base",
            "overflow": null,
            "_model_module_version": "1.2.0",
            "_view_count": null,
            "flex_flow": null,
            "width": null,
            "min_width": null,
            "border": null,
            "align_items": null,
            "bottom": null,
            "_model_module": "@jupyter-widgets/base",
            "top": null,
            "grid_column": null,
            "overflow_y": null,
            "overflow_x": null,
            "grid_auto_flow": null,
            "grid_area": null,
            "grid_template_columns": null,
            "flex": null,
            "_model_name": "LayoutModel",
            "justify_items": null,
            "grid_row": null,
            "max_height": null,
            "align_content": null,
            "visibility": null,
            "align_self": null,
            "height": null,
            "min_height": null,
            "padding": null,
            "grid_auto_rows": null,
            "grid_gap": null,
            "max_width": null,
            "order": null,
            "_view_module_version": "1.2.0",
            "grid_template_areas": null,
            "object_position": null,
            "object_fit": null,
            "grid_auto_columns": null,
            "margin": null,
            "display": null,
            "left": null
          },
          "model_module_version": "1.2.0"
        },
        "3685ed7fc8be43609fba0b40c1309b8f": {
          "model_module": "@jupyter-widgets/controls",
          "model_name": "FloatSliderModel",
          "state": {
            "_view_name": "FloatSliderView",
            "style": "IPY_MODEL_c6b1c9f35151468a8f39b20f53db9f5e",
            "_dom_classes": [],
            "description": "Z",
            "step": 0.01,
            "_model_name": "FloatSliderModel",
            "orientation": "horizontal",
            "max": 1,
            "_view_module": "@jupyter-widgets/controls",
            "_model_module_version": "1.5.0",
            "value": 0.4,
            "_view_count": null,
            "disabled": false,
            "_view_module_version": "1.5.0",
            "min": 0,
            "continuous_update": true,
            "readout_format": ".2f",
            "description_tooltip": null,
            "readout": true,
            "_model_module": "@jupyter-widgets/controls",
            "layout": "IPY_MODEL_0bfdc61380d344a788b40d6b9b1b1d2d"
          },
          "model_module_version": "1.5.0"
        },
        "c6b1c9f35151468a8f39b20f53db9f5e": {
          "model_module": "@jupyter-widgets/controls",
          "model_name": "SliderStyleModel",
          "state": {
            "_view_name": "StyleView",
            "handle_color": null,
            "_model_name": "SliderStyleModel",
            "description_width": "",
            "_view_module": "@jupyter-widgets/base",
            "_model_module_version": "1.5.0",
            "_view_count": null,
            "_view_module_version": "1.2.0",
            "_model_module": "@jupyter-widgets/controls"
          },
          "model_module_version": "1.5.0"
        },
        "0bfdc61380d344a788b40d6b9b1b1d2d": {
          "model_module": "@jupyter-widgets/base",
          "model_name": "LayoutModel",
          "state": {
            "_view_name": "LayoutView",
            "grid_template_rows": null,
            "right": null,
            "justify_content": null,
            "_view_module": "@jupyter-widgets/base",
            "overflow": null,
            "_model_module_version": "1.2.0",
            "_view_count": null,
            "flex_flow": null,
            "width": null,
            "min_width": null,
            "border": null,
            "align_items": null,
            "bottom": null,
            "_model_module": "@jupyter-widgets/base",
            "top": null,
            "grid_column": null,
            "overflow_y": null,
            "overflow_x": null,
            "grid_auto_flow": null,
            "grid_area": null,
            "grid_template_columns": null,
            "flex": null,
            "_model_name": "LayoutModel",
            "justify_items": null,
            "grid_row": null,
            "max_height": null,
            "align_content": null,
            "visibility": null,
            "align_self": null,
            "height": null,
            "min_height": null,
            "padding": null,
            "grid_auto_rows": null,
            "grid_gap": null,
            "max_width": null,
            "order": null,
            "_view_module_version": "1.2.0",
            "grid_template_areas": null,
            "object_position": null,
            "object_fit": null,
            "grid_auto_columns": null,
            "margin": null,
            "display": null,
            "left": null
          },
          "model_module_version": "1.2.0"
        },
        "0604100c70584d30a01c2fafb7c9875d": {
          "model_module": "@jupyter-widgets/controls",
          "model_name": "ToggleButtonModel",
          "state": {
            "_view_name": "ToggleButtonView",
            "style": "IPY_MODEL_6f43fd65fcd341bab5747c2f66df5920",
            "_dom_classes": [],
            "description": "Toggle Gripper",
            "_model_name": "ToggleButtonModel",
            "button_style": "",
            "_view_module": "@jupyter-widgets/controls",
            "_model_module_version": "1.5.0",
            "tooltip": "",
            "_view_count": null,
            "disabled": false,
            "_view_module_version": "1.5.0",
            "value": false,
            "description_tooltip": null,
            "_model_module": "@jupyter-widgets/controls",
            "layout": "IPY_MODEL_f0a410500465451b9e2a89e4b608d90a",
            "icon": ""
          },
          "model_module_version": "1.5.0"
        },
        "6f43fd65fcd341bab5747c2f66df5920": {
          "model_module": "@jupyter-widgets/controls",
          "model_name": "DescriptionStyleModel",
          "state": {
            "_view_name": "StyleView",
            "_model_name": "DescriptionStyleModel",
            "description_width": "",
            "_view_module": "@jupyter-widgets/base",
            "_model_module_version": "1.5.0",
            "_view_count": null,
            "_view_module_version": "1.2.0",
            "_model_module": "@jupyter-widgets/controls"
          },
          "model_module_version": "1.5.0"
        },
        "f0a410500465451b9e2a89e4b608d90a": {
          "model_module": "@jupyter-widgets/base",
          "model_name": "LayoutModel",
          "state": {
            "_view_name": "LayoutView",
            "grid_template_rows": null,
            "right": null,
            "justify_content": null,
            "_view_module": "@jupyter-widgets/base",
            "overflow": null,
            "_model_module_version": "1.2.0",
            "_view_count": null,
            "flex_flow": null,
            "width": null,
            "min_width": null,
            "border": null,
            "align_items": null,
            "bottom": null,
            "_model_module": "@jupyter-widgets/base",
            "top": null,
            "grid_column": null,
            "overflow_y": null,
            "overflow_x": null,
            "grid_auto_flow": null,
            "grid_area": null,
            "grid_template_columns": null,
            "flex": null,
            "_model_name": "LayoutModel",
            "justify_items": null,
            "grid_row": null,
            "max_height": null,
            "align_content": null,
            "visibility": null,
            "align_self": null,
            "height": null,
            "min_height": null,
            "padding": null,
            "grid_auto_rows": null,
            "grid_gap": null,
            "max_width": null,
            "order": null,
            "_view_module_version": "1.2.0",
            "grid_template_areas": null,
            "object_position": null,
            "object_fit": null,
            "grid_auto_columns": null,
            "margin": null,
            "display": null,
            "left": null
          },
          "model_module_version": "1.2.0"
        },
        "26a883fdce7c4daa866ee6c08f8aa3a5": {
          "model_module": "@jupyter-widgets/controls",
          "model_name": "ToggleButtonModel",
          "state": {
            "_view_name": "ToggleButtonView",
            "style": "IPY_MODEL_7d77f2c5b15d4a23970b4af7b7413b22",
            "_dom_classes": [],
            "description": "Stop Simulation",
            "_model_name": "ToggleButtonModel",
            "button_style": "",
            "_view_module": "@jupyter-widgets/controls",
            "_model_module_version": "1.5.0",
            "tooltip": "",
            "_view_count": null,
            "disabled": false,
            "_view_module_version": "1.5.0",
            "value": false,
            "description_tooltip": null,
            "_model_module": "@jupyter-widgets/controls",
            "layout": "IPY_MODEL_c4316f0c323d4c4f826a55ecc2a67982",
            "icon": ""
          },
          "model_module_version": "1.5.0"
        },
        "7d77f2c5b15d4a23970b4af7b7413b22": {
          "model_module": "@jupyter-widgets/controls",
          "model_name": "DescriptionStyleModel",
          "state": {
            "_view_name": "StyleView",
            "_model_name": "DescriptionStyleModel",
            "description_width": "",
            "_view_module": "@jupyter-widgets/base",
            "_model_module_version": "1.5.0",
            "_view_count": null,
            "_view_module_version": "1.2.0",
            "_model_module": "@jupyter-widgets/controls"
          },
          "model_module_version": "1.5.0"
        },
        "c4316f0c323d4c4f826a55ecc2a67982": {
          "model_module": "@jupyter-widgets/base",
          "model_name": "LayoutModel",
          "state": {
            "_view_name": "LayoutView",
            "grid_template_rows": null,
            "right": null,
            "justify_content": null,
            "_view_module": "@jupyter-widgets/base",
            "overflow": null,
            "_model_module_version": "1.2.0",
            "_view_count": null,
            "flex_flow": null,
            "width": null,
            "min_width": null,
            "border": null,
            "align_items": null,
            "bottom": null,
            "_model_module": "@jupyter-widgets/base",
            "top": null,
            "grid_column": null,
            "overflow_y": null,
            "overflow_x": null,
            "grid_auto_flow": null,
            "grid_area": null,
            "grid_template_columns": null,
            "flex": null,
            "_model_name": "LayoutModel",
            "justify_items": null,
            "grid_row": null,
            "max_height": null,
            "align_content": null,
            "visibility": null,
            "align_self": null,
            "height": null,
            "min_height": null,
            "padding": null,
            "grid_auto_rows": null,
            "grid_gap": null,
            "max_width": null,
            "order": null,
            "_view_module_version": "1.2.0",
            "grid_template_areas": null,
            "object_position": null,
            "object_fit": null,
            "grid_auto_columns": null,
            "margin": null,
            "display": null,
            "left": null
          },
          "model_module_version": "1.2.0"
        },
        "5beea30d124447c69ba910674f247a82": {
          "model_module": "@jupyter-widgets/controls",
          "model_name": "RadioButtonsModel",
          "model_module_version": "1.5.0",
          "state": {
            "_options_labels": [
              "Unconstrained",
              "Unconstrained with Damping",
              "Standard",
              "Passivity Guaranteed"
            ],
            "_view_name": "RadioButtonsView",
            "style": "IPY_MODEL_57f86be9859d4b24992c952034221a00",
            "_dom_classes": [],
            "description": "Control Method:",
            "_model_name": "RadioButtonsModel",
            "index": 3,
            "_view_module": "@jupyter-widgets/controls",
            "_model_module_version": "1.5.0",
            "_view_count": null,
            "disabled": false,
            "_view_module_version": "1.5.0",
            "description_tooltip": null,
            "_model_module": "@jupyter-widgets/controls",
            "layout": "IPY_MODEL_26e8d0e787894747ab9c10a0f7f6ceb2"
          }
        },
        "57f86be9859d4b24992c952034221a00": {
          "model_module": "@jupyter-widgets/controls",
          "model_name": "DescriptionStyleModel",
          "model_module_version": "1.5.0",
          "state": {
            "_view_name": "StyleView",
            "_model_name": "DescriptionStyleModel",
            "description_width": "initial",
            "_view_module": "@jupyter-widgets/base",
            "_model_module_version": "1.5.0",
            "_view_count": null,
            "_view_module_version": "1.2.0",
            "_model_module": "@jupyter-widgets/controls"
          }
        },
        "26e8d0e787894747ab9c10a0f7f6ceb2": {
          "model_module": "@jupyter-widgets/base",
          "model_name": "LayoutModel",
          "model_module_version": "1.2.0",
          "state": {
            "_view_name": "LayoutView",
            "grid_template_rows": null,
            "right": null,
            "justify_content": null,
            "_view_module": "@jupyter-widgets/base",
            "overflow": null,
            "_model_module_version": "1.2.0",
            "_view_count": null,
            "flex_flow": null,
            "width": null,
            "min_width": null,
            "border": null,
            "align_items": null,
            "bottom": null,
            "_model_module": "@jupyter-widgets/base",
            "top": null,
            "grid_column": null,
            "overflow_y": null,
            "overflow_x": null,
            "grid_auto_flow": null,
            "grid_area": null,
            "grid_template_columns": null,
            "flex": null,
            "_model_name": "LayoutModel",
            "justify_items": null,
            "grid_row": null,
            "max_height": null,
            "align_content": null,
            "visibility": null,
            "align_self": null,
            "height": null,
            "min_height": null,
            "padding": null,
            "grid_auto_rows": null,
            "grid_gap": null,
            "max_width": null,
            "order": null,
            "_view_module_version": "1.2.0",
            "grid_template_areas": null,
            "object_position": null,
            "object_fit": null,
            "grid_auto_columns": null,
            "margin": null,
            "display": null,
            "left": null
          }
        },
        "e42f7276c6a742a9b52b8a566b1e4adc": {
          "model_module": "@jupyter-widgets/controls",
          "model_name": "RadioButtonsModel",
          "model_module_version": "1.5.0",
          "state": {
            "_options_labels": [
              "Singularity Avoidance",
              "Joint Limits",
              "None"
            ],
            "_view_name": "RadioButtonsView",
            "style": "IPY_MODEL_ba4e2e4ce96c41c1bf35dbd9617e1b46",
            "_dom_classes": [],
            "description": "Constraint Type:",
            "_model_name": "RadioButtonsModel",
            "index": 0,
            "_view_module": "@jupyter-widgets/controls",
            "_model_module_version": "1.5.0",
            "_view_count": null,
            "disabled": false,
            "_view_module_version": "1.5.0",
            "description_tooltip": null,
            "_model_module": "@jupyter-widgets/controls",
            "layout": "IPY_MODEL_36c7d80145bf4119bbfccce3ba8d1dc1"
          }
        },
        "ba4e2e4ce96c41c1bf35dbd9617e1b46": {
          "model_module": "@jupyter-widgets/controls",
          "model_name": "DescriptionStyleModel",
          "model_module_version": "1.5.0",
          "state": {
            "_view_name": "StyleView",
            "_model_name": "DescriptionStyleModel",
            "description_width": "initial",
            "_view_module": "@jupyter-widgets/base",
            "_model_module_version": "1.5.0",
            "_view_count": null,
            "_view_module_version": "1.2.0",
            "_model_module": "@jupyter-widgets/controls"
          }
        },
        "36c7d80145bf4119bbfccce3ba8d1dc1": {
          "model_module": "@jupyter-widgets/base",
          "model_name": "LayoutModel",
          "model_module_version": "1.2.0",
          "state": {
            "_view_name": "LayoutView",
            "grid_template_rows": null,
            "right": null,
            "justify_content": null,
            "_view_module": "@jupyter-widgets/base",
            "overflow": null,
            "_model_module_version": "1.2.0",
            "_view_count": null,
            "flex_flow": null,
            "width": null,
            "min_width": null,
            "border": null,
            "align_items": null,
            "bottom": null,
            "_model_module": "@jupyter-widgets/base",
            "top": null,
            "grid_column": null,
            "overflow_y": null,
            "overflow_x": null,
            "grid_auto_flow": null,
            "grid_area": null,
            "grid_template_columns": null,
            "flex": null,
            "_model_name": "LayoutModel",
            "justify_items": null,
            "grid_row": null,
            "max_height": null,
            "align_content": null,
            "visibility": null,
            "align_self": null,
            "height": null,
            "min_height": null,
            "padding": null,
            "grid_auto_rows": null,
            "grid_gap": null,
            "max_width": null,
            "order": null,
            "_view_module_version": "1.2.0",
            "grid_template_areas": null,
            "object_position": null,
            "object_fit": null,
            "grid_auto_columns": null,
            "margin": null,
            "display": null,
            "left": null
          }
        }
      }
    }
  },
  "cells": [
    {
      "cell_type": "markdown",
      "metadata": {
        "id": "5fCEDCU_qrC0"
      },
      "source": [
        "**Run this cell first to provision a cloud machine and set up Drake.**\n",
        "\n",
        "This may take a minute or two the first time, but once a machine is set up it should be good for about 12 hours.\n",
        "\n",
        "If you're new to Google Colab, you may be interested in [this introduction](https://colab.research.google.com/notebooks/basic_features_overview.ipynb)."
      ]
    },
    {
      "cell_type": "markdown",
      "source": [
        "**Update:** a (free) [ngrok](https://ngrok.com/) account is now required to view the visualizer on Google Colab. Copy your authtoken from https://dashboard.ngrok.com/auth and run this cell first."
      ],
      "metadata": {
        "id": "TOasvVmISzPR"
      }
    },
    {
      "cell_type": "code",
      "source": [
        "AUTHTOKEN = \"YOUR_AUTHTOKEN_HERE\""
      ],
      "metadata": {
        "id": "OOJsQ3yiSrkV"
      },
      "execution_count": null,
      "outputs": []
    },
    {
      "cell_type": "code",
      "metadata": {
        "id": "mxmkdKfSVjCK",
        "cellView": "form"
      },
      "source": [
        "#@title Run Initialization\n",
        "import importlib\n",
        "import sys\n",
        "import os\n",
        "from urllib.request import urlretrieve\n",
        "import subprocess\n",
        "import shutil\n",
        "\n",
        "assert 'google.colab' in sys.modules, \"This notebook is meant to be run in google colab!\"\n",
        "\n",
        "drake_url = \"https://drake-packages.csail.mit.edu/tmp/drake-0.27.0-pip-bionic.tar.gz\"\n",
        "if importlib.util.find_spec('pydrake') is None:\n",
        "    # We're in colab and don't have pydrake, so install it on the cloud machine.\n",
        "    if os.path.isdir('/opt/drake'):\n",
        "        shutil.rmtree('/opt/drake')\n",
        "    print(\"Installing Drake\")\n",
        "    urlretrieve(drake_url, 'drake.tar.gz')\n",
        "    subprocess.run(['mkdir', '/opt/drake'])\n",
        "    subprocess.run(['tar', '-xzf', 'drake.tar.gz', '-C', '/opt/drake'], check=True)\n",
        "    \n",
        "    print(\"Installing other dependencies\")\n",
        "    subprocess.run([\"pip3\", \"install\", \"meshcat\"])\n",
        "    subprocess.run(['apt-get', 'update', '-o', 'APT::Acquire::Retries=4', '-qq'], check=True)\n",
        "    with open(\"/opt/drake/share/drake/setup/packages-bionic.txt\", \"r\") as f:\n",
        "        packages = f.read().splitlines()\n",
        "    subprocess.run(['apt-get', 'install', '-o',\n",
        "                    'APT::Acquire::Retries=4', '-o', 'Dpkg::Use-Pty=0',\n",
        "                    '-qy', '--no-install-recommends'] + packages,\n",
        "                    check=True)\n",
        "    \n",
        "    v = sys.version_info\n",
        "    path = f\"/opt/drake/lib/python{v.major}.{v.minor}/site-packages\"\n",
        "    if importlib.util.find_spec('pydrake') is None:\n",
        "        sys.path.append(path)\n",
        "\n",
        "# Set the ngrok authoken\n",
        "!ngrok authtoken $AUTHTOKEN\n",
        "#subprocess.run([\"ngrok\",\"authoken\",AUTHTOKEN])\n",
        "\n",
        "# Start a meshcat server\n",
        "print(\"Starting Meshcat\")\n",
        "from meshcat.servers.zmqserver import start_zmq_server_as_subprocess\n",
        "proc, zmq_url, web_url = start_zmq_server_as_subprocess(server_args=['--ngrok_http_tunnel'])\n",
        "\n",
        "# Clone our github repo\n",
        "install_path = '/opt/passivity_cbf_demo'\n",
        "if not os.path.isdir(install_path):\n",
        "    print(\"Cloning github repo\")\n",
        "    subprocess.run(['git','clone','https://github.com/vincekurtz/passivity_cbf_demo.git',install_path])\n",
        "sys.path.append(install_path)\n",
        "\n",
        "print(\"Done!\")\n"
      ],
      "execution_count": null,
      "outputs": []
    },
    {
      "cell_type": "markdown",
      "metadata": {
        "id": "wpfbm5lii47r"
      },
      "source": [
        "Run the following cell to choose which control method to use and what type of constraints to apply, if any:\n"
      ]
    },
    {
      "cell_type": "code",
      "metadata": {
        "colab": {
          "base_uri": "https://localhost:8080/",
          "height": 207,
          "referenced_widgets": [
            "5beea30d124447c69ba910674f247a82",
            "57f86be9859d4b24992c952034221a00",
            "26e8d0e787894747ab9c10a0f7f6ceb2",
            "e42f7276c6a742a9b52b8a566b1e4adc",
            "ba4e2e4ce96c41c1bf35dbd9617e1b46",
            "36c7d80145bf4119bbfccce3ba8d1dc1"
          ]
        },
        "id": "Beg1rlROep0u",
        "cellView": "form",
        "outputId": "18eb615d-893a-4011-8df7-629fc36085e5"
      },
      "source": [
        "#@title Set Simulation Parameters\n",
        "import ipywidgets as widgets\n",
        "\n",
        "ctrl_radio = widgets.RadioButtons(\n",
        "    description=\"Control Method:\",\n",
        "    style={'description_width':'initial'},\n",
        "    options=[\"Unconstrained\",\"Unconstrained with Damping\",\"Standard\",\"Passivity Guaranteed\"],\n",
        "    value=\"Passivity Guaranteed\")\n",
        "cons_radio = widgets.RadioButtons(\n",
        "    description=\"Constraint Type:\",\n",
        "    style={'description_width':'initial'},\n",
        "    options=[\"Singularity Avoidance\", \"Joint Limits\", \"None\"],\n",
        "    value=\"Singularity Avoidance\")\n",
        "\n",
        "display(ctrl_radio)\n",
        "display(cons_radio)"
      ],
      "execution_count": 3,
      "outputs": [
        {
          "output_type": "display_data",
          "data": {
            "application/vnd.jupyter.widget-view+json": {
              "model_id": "5beea30d124447c69ba910674f247a82",
              "version_minor": 0,
              "version_major": 2
            },
            "text/plain": [
              "RadioButtons(description='Control Method:', index=3, options=('Unconstrained', 'Unconstrained with Damping', '…"
            ]
          },
          "metadata": {}
        },
        {
          "output_type": "display_data",
          "data": {
            "application/vnd.jupyter.widget-view+json": {
              "model_id": "e42f7276c6a742a9b52b8a566b1e4adc",
              "version_minor": 0,
              "version_major": 2
            },
            "text/plain": [
              "RadioButtons(description='Constraint Type:', options=('Singularity Avoidance', 'Joint Limits', 'None'), style=…"
            ]
          },
          "metadata": {}
        }
      ]
    },
    {
      "cell_type": "markdown",
      "metadata": {
        "id": "kz18Q5h67n3R"
      },
      "source": [
        "**Control Method Options:**\n",
        "\n",
        "The *Unconstrained* method is a task-space passivity based controller which selects joint torques such that\n",
        "\n",
        "\\begin{align}\n",
        "    \\bar{J}^T \\tau = f^{des} = \\Lambda \\ddot{x}_{r} + \\bar{J}^T\\tau_g + \\Lambda Q (\\dot{q} - \\bar{J} \\dot{\\tilde{x}}) - K_P\\tilde{x} - K_D\\dot{\\tilde{x}}.\n",
        "\\end{align}\n",
        "\n",
        "This method guarantees passivity but not constraint satisfaction, and performs poorly in near-singular configurations.\n",
        "\n",
        "The *Unconstrained with Damping* method is identical to the above, but uses a damped version of the Jacobian pseudoinverse, i.e.,\n",
        "\\begin{equation}\n",
        "    \\bar{J} = J^T(J J^T + \\delta I)^{-1}\n",
        "\\end{equation}\n",
        "with damping constant $\\delta = 0.001$. This improves numerical stability near singularities, but reduces tracking performance and breaks formal passivity guarantees. \n",
        "\n",
        "The *Standard* method is a fairly common approach to constrained passivity-based control. It attempts to match the unconstrained controller, subject to constraints, by solving a convex quadratic program:\n",
        "\n",
        "\\begin{align}\n",
        "    \\min_{\\tau,\\ddot{q}} ~& \\|\\bar{J}^T\\tau - f^{des}\\|^2 \\\\\n",
        "    \\text{s.t. } & M(q)\\ddot{q} + C(q,\\dot{q})\\dot{q} + \\tau_g(q) = \\tau \\\\\n",
        "    & \\text{Other Constraints}\n",
        "\\end{align}\n",
        "\n",
        "where the first constraint is the robot dynamics. \"Other Constraints\" can include singularity avoidance or joint limit constraints, as outlined below. This method guarantees constraint satisfaction, but passivity guarantees are lost when the optimal cost is nonzero. \n",
        "\n",
        "Finally, the *Passivity Guaranteed* method is our proposed approach, which guarantees both passivity and constraint satisfaction by modifying the reference acceleration $\\ddot{x}_r$ when necessary. This method solves a convex QP,\n",
        "\n",
        "\\begin{align}\n",
        "    \\min_{\\tau,\\ddot{q},\\ddot{x}_r} ~& w_1\\|\\ddot{x}_r - \\ddot{x}_r^{nom}\\|^2 + w_2\\|\\bar{J}^T\\tau - f^{des}\\|^2 \\\\\n",
        "    \\text{s.t. } & M(q)\\ddot{q} + C(q,\\dot{q})\\dot{q} + \\tau_g(q) = \\tau \\\\\n",
        "    & \\dot{V}(\\ddot{q},\\ddot{x}_r) \\leq 0 \\\\\n",
        "    & \\text{Other Constraints}\n",
        "\\end{align}\n",
        "\n",
        "which is guaranteed to always be feasible. \n",
        "\n",
        "**Constraint Options**\n",
        "\n",
        "The *Joint Limits* option enforces joint angle and velocity limits using the Control Barrier Function (CBF) formulation presented in [this paper](https://people.kth.se/~dimos/pdfs/ACC20_Wences.pdf).\n",
        "\n",
        "The *Signularity Avoidance* option uses a new CBF which ensures that the [manipulability index](https://journals.sagepub.com/doi/10.1177/027836498500400201) is always above a given threshold. This allows us to avoid singular and near-singular configurations that would otherwise lead to poor performance for any of the control methods outlined above. \n",
        "\n"
      ]
    },
    {
      "cell_type": "markdown",
      "metadata": {
        "id": "OdcQGn8Pn2Fw"
      },
      "source": [
        "Run the following cell to initialize the simulation with the options specified above."
      ]
    },
    {
      "cell_type": "code",
      "metadata": {
        "id": "eT7zQ06M9YYD",
        "cellView": "form"
      },
      "source": [
        "#@title Initialize Simulation\n",
        "from colab_utils import *\n",
        "\n",
        "simulator, gui = setup_colab_simulation(ctrl_radio.value, cons_radio.value, \n",
        "                                   install_path, zmq_url, include_manipuland=True)\n"
      ],
      "execution_count": null,
      "outputs": []
    },
    {
      "cell_type": "markdown",
      "metadata": {
        "id": "ElvcTcI6nnBE"
      },
      "source": [
        "You can open the URL above to see the simulation in a different window, or run the block below to embed the visualizer in this page.\n",
        "\n",
        "Key elements of the simulation are shown in the table below:\n",
        "\n",
        "| ![robot](https://github.com/vincekurtz/passivity_cbf_demo/blob/master/robot.png?raw=1) | ![reference](https://github.com/vincekurtz/passivity_cbf_demo/blob/master/end_effector_reference.png?raw=1) | ![target](https://github.com/vincekurtz/passivity_cbf_demo/blob/master/end_effector_target.png?raw=1) |\n",
        "|:-------------------:|:----------------------------------------:|:------------------------:|\n",
        "| Robot (Kinova Gen3 7-DoF)  |  Reference end-effector pose ($x_r$)       | Target end-effector pose ($x_r^{des}$)\n",
        "\n",
        "\n"
      ]
    },
    {
      "cell_type": "code",
      "metadata": {
        "id": "RjmUt_D8COb8",
        "cellView": "form"
      },
      "source": [
        "#@title Show Visualizer\n",
        "import IPython\n",
        "width=800\n",
        "height=400\n",
        "if web_url[:5] != 'https':\n",
        "    web_url = 'https' + web_url[4:]\n",
        "iframe = '<iframe src=' + web_url + ' width=' + str(width) + ' height=' + str(height) + '></iframe>'\n",
        "IPython.display.HTML(iframe)"
      ],
      "execution_count": null,
      "outputs": []
    },
    {
      "cell_type": "markdown",
      "metadata": {
        "id": "Z7NbLR6bj7FD"
      },
      "source": [
        "Run the following cell to start the simulation, and use the sliders to change the target end-effector pose. "
      ]
    },
    {
      "cell_type": "code",
      "metadata": {
        "colab": {
          "base_uri": "https://localhost:8080/",
          "height": 263,
          "referenced_widgets": [
            "294e4ae6dc0544b184ce9a8eacf5c261",
            "e8ae3f7cdeaf429b8987b6666bd274ee",
            "34311e41dda0476b9687b37b75083cc9",
            "c6a58d33b2234e4e9cb9389e7a6b3928",
            "34daa93478a648fb8c29cef6d694c940",
            "93babbb7ab2c43afaad394ea55686c3f",
            "dc41e79d2df34ba9beefc1ccc0539fc1",
            "59da5604a0ac45e7b24c907bc7a3d99c",
            "ca25d467591748bb8d28b7b993a6ba20",
            "f9fc2e0ee7e04e4c9c61debae3bc8792",
            "ffd5acd981164760bd47e8e8019e2657",
            "c4a8c9e7eea04add96df4b89eacf0292",
            "f28d5921f0ed480ebf13ee355e7fe364",
            "e2d1e50f650340e39c1e2225010a6306",
            "e758057dce8e4d3693266c6a4ebff076",
            "3685ed7fc8be43609fba0b40c1309b8f",
            "c6b1c9f35151468a8f39b20f53db9f5e",
            "0bfdc61380d344a788b40d6b9b1b1d2d",
            "0604100c70584d30a01c2fafb7c9875d",
            "6f43fd65fcd341bab5747c2f66df5920",
            "f0a410500465451b9e2a89e4b608d90a",
            "26a883fdce7c4daa866ee6c08f8aa3a5",
            "7d77f2c5b15d4a23970b4af7b7413b22",
            "c4316f0c323d4c4f826a55ecc2a67982"
          ]
        },
        "id": "2Abtt6yMAlxA",
        "cellView": "form",
        "outputId": "da128a37-0844-43ad-b9ce-11cc9abe9f0a"
      },
      "source": [
        "#@title Start Simulating!\n",
        "import threading\n",
        "\n",
        "# Show sliders for controlling the target end-effector pose\n",
        "display_gui(gui)\n",
        "stop_button = widgets.ToggleButton(value=False, description='Stop Simulation')\n",
        "display(stop_button)\n",
        "\n",
        "# Run the simulation in a separate thread so we can stop it with a button press\n",
        "def run_sim():\n",
        "    while not stop_button.value:\n",
        "        simulator.AdvanceTo(simulator.get_context().get_time() + 1.0)\n",
        "thread = threading.Thread(target=run_sim)\n",
        "thread.start()\n"
      ],
      "execution_count": null,
      "outputs": [
        {
          "output_type": "display_data",
          "data": {
            "application/vnd.jupyter.widget-view+json": {
              "model_id": "294e4ae6dc0544b184ce9a8eacf5c261",
              "version_minor": 0,
              "version_major": 2
            },
            "text/plain": [
              "FloatSlider(value=3.141592653589793, description='Roll', max=6.283185307179586, step=0.01)"
            ]
          },
          "metadata": {
            "tags": []
          }
        },
        {
          "output_type": "display_data",
          "data": {
            "application/vnd.jupyter.widget-view+json": {
              "model_id": "c6a58d33b2234e4e9cb9389e7a6b3928",
              "version_minor": 0,
              "version_major": 2
            },
            "text/plain": [
              "FloatSlider(value=0.0, description='Pitch', max=1.2707963267948965, min=-1.2707963267948965, step=0.01)"
            ]
          },
          "metadata": {
            "tags": []
          }
        },
        {
          "output_type": "display_data",
          "data": {
            "application/vnd.jupyter.widget-view+json": {
              "model_id": "dc41e79d2df34ba9beefc1ccc0539fc1",
              "version_minor": 0,
              "version_major": 2
            },
            "text/plain": [
              "FloatSlider(value=1.5707963267948966, description='Yaw', max=6.283185307179586, step=0.01)"
            ]
          },
          "metadata": {
            "tags": []
          }
        },
        {
          "output_type": "display_data",
          "data": {
            "application/vnd.jupyter.widget-view+json": {
              "model_id": "f9fc2e0ee7e04e4c9c61debae3bc8792",
              "version_minor": 0,
              "version_major": 2
            },
            "text/plain": [
              "FloatSlider(value=0.2, description='X', max=1.0, min=-1.0, step=0.01)"
            ]
          },
          "metadata": {
            "tags": []
          }
        },
        {
          "output_type": "display_data",
          "data": {
            "application/vnd.jupyter.widget-view+json": {
              "model_id": "f28d5921f0ed480ebf13ee355e7fe364",
              "version_minor": 0,
              "version_major": 2
            },
            "text/plain": [
              "FloatSlider(value=0.4, description='Y', max=1.0, min=-1.0, step=0.01)"
            ]
          },
          "metadata": {
            "tags": []
          }
        },
        {
          "output_type": "display_data",
          "data": {
            "application/vnd.jupyter.widget-view+json": {
              "model_id": "3685ed7fc8be43609fba0b40c1309b8f",
              "version_minor": 0,
              "version_major": 2
            },
            "text/plain": [
              "FloatSlider(value=0.4, description='Z', max=1.0, step=0.01)"
            ]
          },
          "metadata": {
            "tags": []
          }
        },
        {
          "output_type": "display_data",
          "data": {
            "application/vnd.jupyter.widget-view+json": {
              "model_id": "0604100c70584d30a01c2fafb7c9875d",
              "version_minor": 0,
              "version_major": 2
            },
            "text/plain": [
              "ToggleButton(value=False, description='Toggle Gripper')"
            ]
          },
          "metadata": {
            "tags": []
          }
        },
        {
          "output_type": "display_data",
          "data": {
            "application/vnd.jupyter.widget-view+json": {
              "model_id": "26a883fdce7c4daa866ee6c08f8aa3a5",
              "version_minor": 0,
              "version_major": 2
            },
            "text/plain": [
              "ToggleButton(value=False, description='Stop Simulation')"
            ]
          },
          "metadata": {
            "tags": []
          }
        }
      ]
    }
  ]
}