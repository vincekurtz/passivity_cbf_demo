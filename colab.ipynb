{
  "nbformat": 4,
  "nbformat_minor": 0,
  "metadata": {
    "colab": {
      "name": "Constrained Passivity-Based Control",
      "provenance": [],
      "collapsed_sections": [],
      "toc_visible": true
    },
    "kernelspec": {
      "display_name": "Python 3",
      "name": "python3"
    }
  },
  "cells": [
    {
      "cell_type": "markdown",
      "metadata": {
        "id": "5fCEDCU_qrC0"
      },
      "source": [
        "## Setup\n",
        "\n",
        "Run this cell first to provision a cloud machine and set up Drake. \n",
        "\n",
        "This takes several minutes the first time, but once a machine is set up it should be good for about 12 hours. "
      ]
    },
    {
      "cell_type": "code",
      "metadata": {
        "id": "mxmkdKfSVjCK"
      },
      "source": [
        "import importlib\n",
        "import sys\n",
        "import os\n",
        "from urllib.request import urlretrieve\n",
        "import subprocess\n",
        "import shutil\n",
        "\n",
        "drake_url = \"https://drake-packages.csail.mit.edu/tmp/drake-0.27.0-pip-bionic.tar.gz\"\n",
        "\n",
        "assert 'google.colab' in sys.modules, \"This notebook is meant to be run in google colab!\"\n",
        "\n",
        "if importlib.util.find_spec('pydrake') is None:\n",
        "    # We're in colab and don't have pydrake, so install it on the cloud machine.\n",
        "    if os.path.isdir('/opt/drake'):\n",
        "        shutil.rmtree('/opt/drake')\n",
        "    print(\"Installing Drake\")\n",
        "    urlretrieve(drake_url, 'drake.tar.gz')\n",
        "    subprocess.run(['mkdir', '/opt/drake'])\n",
        "    subprocess.run(['tar', '-xzf', 'drake.tar.gz', '-C', '/opt/drake'], check=True)\n",
        "    \n",
        "    print(\"Installing other dependencies\")\n",
        "    subprocess.run([\"pip3\", \"install\", \"meshcat\"])\n",
        "    subprocess.run(['apt-get', 'update', '-o', 'APT::Acquire::Retries=4', '-qq'], check=True)\n",
        "    with open(\"/opt/drake/share/drake/setup/packages-bionic.txt\", \"r\") as f:\n",
        "        packages = f.read().splitlines()\n",
        "    subprocess.run(['apt-get', 'install', '-o',\n",
        "                    'APT::Acquire::Retries=4', '-o', 'Dpkg::Use-Pty=0',\n",
        "                    '-qy', '--no-install-recommends'] + packages,\n",
        "                    check=True)\n",
        "    \n",
        "    v = sys.version_info\n",
        "    path = f\"/opt/drake/lib/python{v.major}.{v.minor}/site-packages\"\n",
        "    if importlib.util.find_spec('pydrake') is None:\n",
        "        sys.path.append(path)\n"
      ],
      "execution_count": 12,
      "outputs": []
    },
    {
      "cell_type": "markdown",
      "metadata": {
        "id": "XcqATDUzYw7K"
      },
      "source": [
        "## About This Notebook\n",
        "\n",
        "While you're waiting, here's what this is all about..."
      ]
    },
    {
      "cell_type": "code",
      "metadata": {
        "id": "Beg1rlROep0u",
        "outputId": "954c405c-e0d6-4760-f040-901e4edcd67f",
        "colab": {
          "base_uri": "https://localhost:8080/"
        }
      },
      "source": [
        "from pydrake.all import *\n",
        "\n",
        "print(MathematicalProgram)"
      ],
      "execution_count": 15,
      "outputs": [
        {
          "output_type": "stream",
          "text": [
            "<class 'pydrake.solvers.mathematicalprogram.MathematicalProgram'>\n"
          ],
          "name": "stdout"
        }
      ]
    }
  ]
}